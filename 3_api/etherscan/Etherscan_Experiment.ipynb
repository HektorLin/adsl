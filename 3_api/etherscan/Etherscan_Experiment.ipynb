{
 "cells": [
  {
   "cell_type": "markdown",
   "metadata": {},
   "source": [
    "Place this code piece next to the .../etherscan/1_rest.ipynb to run"
   ]
  },
  {
   "cell_type": "code",
   "execution_count": 1,
   "metadata": {},
   "outputs": [],
   "source": [
    "import requests\n",
    "import pandas as pd\n",
    "import numpy as np\n",
    "from datetime import datetime\n",
    "import json\n",
    "\n",
    "with open(\"../.private/keys.json\") as keys_file:\n",
    "    KEYS = json.load(keys_file)\n",
    "\n",
    "APIKEY = KEYS['ETHERSCAN']\n",
    "# Note: don't print the key, or if you do, delete the cell's output\n",
    "# (cell outputs are saved and can be sent to Github).\n"
   ]
  },
  {
   "cell_type": "code",
   "execution_count": 2,
   "metadata": {},
   "outputs": [],
   "source": [
    "ENDPOINT = 'https://api.etherscan.io/api'"
   ]
  },
  {
   "cell_type": "code",
   "execution_count": 3,
   "metadata": {},
   "outputs": [],
   "source": [
    "# https://datagy.io/python-requests-authentication/\n",
    "\n",
    "\n",
    "def process_args(params):\n",
    "    queryString = \"?\"\n",
    "    for p in params:\n",
    "        queryString += p.lower() + \"=\" + params[p] + \"&\"\n",
    "\n",
    "    queryString += \"apikey=\" + APIKEY\n",
    "    return queryString\n",
    "\n",
    "def etherscan(params={}):\n",
    "\n",
    "    params['apikey'] = APIKEY\n",
    "    response = requests.get(ENDPOINT,\n",
    "                            headers={\n",
    "                                'accept': 'application/json',\n",
    "                                \"User-Agent\": \"\"\n",
    "                            },\n",
    "                            params=params)\n",
    "\n",
    "    print(response)\n",
    "    return response.json()"
   ]
  },
  {
   "cell_type": "markdown",
   "metadata": {},
   "source": [
    "# Key takeaway\n",
    "\n",
    "Etherscan records for \n",
    "\n",
    "    - all actions from an account/smart contract (as far as the action involves ETH as transaction fee), which includes\n",
    "        -- time, from, to, amount, what this action is about, transaction fee, in which block it is recorded\n",
    "        -- (Smart contract only) Source code\n",
    "    - the current balance of a account in ETH, and the current balance for (account, token) pairs\n",
    "\n",
    "And these are not directly available\n",
    "\n",
    "    - the historical ETH balance of a account (only in the PRO version of the API)\n",
    "    - the historical token balance of a account (only in the PRO version of the API)\n",
    "\n",
    "\n",
    "\n",
    "And technically not feasible\n",
    "\n",
    "    - the token transferred within an action\n"
   ]
  },
  {
   "cell_type": "markdown",
   "metadata": {},
   "source": [
    "## Actions (=Transactions in Etherscan)"
   ]
  },
  {
   "cell_type": "markdown",
   "metadata": {},
   "source": [
    "\n",
    "\n",
    "I experiment the Etherscan API with the sample account\n",
    "'0x894Aa5F1E45454677A8560ddE3B45Cb5C427Ef92', or 'wombat.eth',\n",
    "retrived from https://snapshot.org/#/gitcoindao.eth/proposal/0x64bc572f0b50346e8d1f300b39d02204750ec4308002794dac9247422adb27bd\n",
    "\n",
    "Etherscan page of the address:\n",
    "https://etherscan.io/address/0x894aa5f1e45454677a8560dde3b45cb5c427ef92"
   ]
  },
  {
   "cell_type": "code",
   "execution_count": 29,
   "metadata": {},
   "outputs": [
    {
     "name": "stdout",
     "output_type": "stream",
     "text": [
      "<Response [200]>\n"
     ]
    }
   ],
   "source": [
    "# to get the recent transactions of an address\n",
    "\n",
    "params = {\n",
    "    'module': 'account',\n",
    "    'action': 'txlist',\n",
    "    'address': '0x894Aa5F1E45454677A8560ddE3B45Cb5C427Ef92',\n",
    "    #'toaddress': '0x894Aa5F1E45454677A8560ddE3B45Cb5C427Ef92',\n",
    "    'startblock': '0',\n",
    "    'endblock': '99999999'\n",
    "}\n",
    "\n",
    "# Syntax note: 'address' is mandantory and one has to input 'address' even if having 'toaddress'\n",
    "\n",
    "res = etherscan(params)"
   ]
  },
  {
   "cell_type": "code",
   "execution_count": 30,
   "metadata": {},
   "outputs": [
    {
     "name": "stdout",
     "output_type": "stream",
     "text": [
      "<class 'pandas.core.frame.DataFrame'>\n",
      "RangeIndex: 122 entries, 0 to 121\n",
      "Data columns (total 20 columns):\n",
      " #   Column             Non-Null Count  Dtype \n",
      "---  ------             --------------  ----- \n",
      " 0   blockNumber        122 non-null    object\n",
      " 1   timeStamp          122 non-null    object\n",
      " 2   hash               122 non-null    object\n",
      " 3   nonce              122 non-null    object\n",
      " 4   blockHash          122 non-null    object\n",
      " 5   transactionIndex   122 non-null    object\n",
      " 6   from               122 non-null    object\n",
      " 7   to                 122 non-null    object\n",
      " 8   value              122 non-null    object\n",
      " 9   gas                122 non-null    object\n",
      " 10  gasPrice           122 non-null    object\n",
      " 11  isError            122 non-null    object\n",
      " 12  txreceipt_status   122 non-null    object\n",
      " 13  input              122 non-null    object\n",
      " 14  contractAddress    122 non-null    object\n",
      " 15  cumulativeGasUsed  122 non-null    object\n",
      " 16  gasUsed            122 non-null    object\n",
      " 17  confirmations      122 non-null    object\n",
      " 18  methodId           122 non-null    object\n",
      " 19  functionName       122 non-null    object\n",
      "dtypes: object(20)\n",
      "memory usage: 19.2+ KB\n"
     ]
    }
   ],
   "source": [
    "df = pd.DataFrame(res['result'])\n",
    "df.info()"
   ]
  },
  {
   "cell_type": "code",
   "execution_count": 32,
   "metadata": {},
   "outputs": [],
   "source": [
    "df['value'] = df['value'].astype(float)/1000000000000000000 #express in Ether\n",
    "df['gasPrice'] = df['gasPrice'].astype(float)/1000000000000000000 #express in Ether\n",
    "df['txnFeeETH'] = df['gasPrice'] * df['gasUsed'].astype(float)\n",
    "\n",
    "df['timeStamp'] = df['timeStamp'].astype(int)\n",
    "\n",
    "# reformat hash\n",
    "df['from_short'] = df['from'].str[0:3] + '...' + df['from'].str[-3:]\n",
    "df['to_short'] = df['to'].str[0:3] + '...' + df['to'].str[-3:]\n",
    "\n",
    "df['time'] = df['timeStamp'].apply(lambda x: datetime.utcfromtimestamp(x).strftime('%Y-%m-%d %H:%M:%S'))"
   ]
  },
  {
   "cell_type": "code",
   "execution_count": 33,
   "metadata": {},
   "outputs": [
    {
     "data": {
      "text/html": [
       "<div>\n",
       "<style scoped>\n",
       "    .dataframe tbody tr th:only-of-type {\n",
       "        vertical-align: middle;\n",
       "    }\n",
       "\n",
       "    .dataframe tbody tr th {\n",
       "        vertical-align: top;\n",
       "    }\n",
       "\n",
       "    .dataframe thead th {\n",
       "        text-align: right;\n",
       "    }\n",
       "</style>\n",
       "<table border=\"1\" class=\"dataframe\">\n",
       "  <thead>\n",
       "    <tr style=\"text-align: right;\">\n",
       "      <th></th>\n",
       "      <th>blockNumber</th>\n",
       "      <th>time</th>\n",
       "      <th>from_short</th>\n",
       "      <th>to_short</th>\n",
       "      <th>value</th>\n",
       "      <th>methodId</th>\n",
       "      <th>hash</th>\n",
       "      <th>txnFeeETH</th>\n",
       "    </tr>\n",
       "  </thead>\n",
       "  <tbody>\n",
       "    <tr>\n",
       "      <th>0</th>\n",
       "      <td>12455444</td>\n",
       "      <td>2021-05-18 01:35:07</td>\n",
       "      <td>0x9...daa</td>\n",
       "      <td>0x8...f92</td>\n",
       "      <td>0.095000</td>\n",
       "      <td>0x</td>\n",
       "      <td>0x0c31ed0cd9e81741ffeb8022a39ef45a66cde1fe52ed...</td>\n",
       "      <td>0.001260</td>\n",
       "    </tr>\n",
       "    <tr>\n",
       "      <th>1</th>\n",
       "      <td>12546661</td>\n",
       "      <td>2021-06-01 05:15:14</td>\n",
       "      <td>0x8...f92</td>\n",
       "      <td>0xe...564</td>\n",
       "      <td>0.010500</td>\n",
       "      <td>0xc04b8d59</td>\n",
       "      <td>0x77599fe1a04114994c4c1ead39ca786b29e0fdb9b4fb...</td>\n",
       "      <td>0.000371</td>\n",
       "    </tr>\n",
       "    <tr>\n",
       "      <th>2</th>\n",
       "      <td>12546714</td>\n",
       "      <td>2021-06-01 05:26:29</td>\n",
       "      <td>0x8...f92</td>\n",
       "      <td>0xe...564</td>\n",
       "      <td>0.010500</td>\n",
       "      <td>0xc04b8d59</td>\n",
       "      <td>0x9899a279a470d23e33a392b17772a25714f6d1ec346b...</td>\n",
       "      <td>0.003928</td>\n",
       "    </tr>\n",
       "    <tr>\n",
       "      <th>3</th>\n",
       "      <td>12591733</td>\n",
       "      <td>2021-06-08 04:26:14</td>\n",
       "      <td>0x8...f92</td>\n",
       "      <td>0x2...7f5</td>\n",
       "      <td>0.000000</td>\n",
       "      <td>0xf14fcbc8</td>\n",
       "      <td>0x819495e30f801afedfe0d26319631ef7e582c0f27480...</td>\n",
       "      <td>0.000925</td>\n",
       "    </tr>\n",
       "    <tr>\n",
       "      <th>4</th>\n",
       "      <td>12591750</td>\n",
       "      <td>2021-06-08 04:29:36</td>\n",
       "      <td>0x8...f92</td>\n",
       "      <td>0x2...7f5</td>\n",
       "      <td>0.004364</td>\n",
       "      <td>0xf7a16963</td>\n",
       "      <td>0x77dca0f11cec38aabf40d8e346eb420192bd581051ee...</td>\n",
       "      <td>0.004315</td>\n",
       "    </tr>\n",
       "    <tr>\n",
       "      <th>...</th>\n",
       "      <td>...</td>\n",
       "      <td>...</td>\n",
       "      <td>...</td>\n",
       "      <td>...</td>\n",
       "      <td>...</td>\n",
       "      <td>...</td>\n",
       "      <td>...</td>\n",
       "      <td>...</td>\n",
       "    </tr>\n",
       "    <tr>\n",
       "      <th>117</th>\n",
       "      <td>15454111</td>\n",
       "      <td>2022-09-01 17:15:54</td>\n",
       "      <td>0x8...f92</td>\n",
       "      <td>0xd...489</td>\n",
       "      <td>0.000000</td>\n",
       "      <td>0x15373e3d</td>\n",
       "      <td>0xfd55e3b5bee0dbba4829bdf31d8a31408af0b148007d...</td>\n",
       "      <td>0.001154</td>\n",
       "    </tr>\n",
       "    <tr>\n",
       "      <th>118</th>\n",
       "      <td>15517393</td>\n",
       "      <td>2022-09-11 22:42:10</td>\n",
       "      <td>0x8...f92</td>\n",
       "      <td>0xa...b48</td>\n",
       "      <td>0.000000</td>\n",
       "      <td>0x095ea7b3</td>\n",
       "      <td>0x2e63b0b106ed7958592b6d31539f54b8ca37fca66de0...</td>\n",
       "      <td>0.000471</td>\n",
       "    </tr>\n",
       "    <tr>\n",
       "      <th>119</th>\n",
       "      <td>15590620</td>\n",
       "      <td>2022-09-22 18:18:23</td>\n",
       "      <td>0x8...f92</td>\n",
       "      <td>0xd...eff</td>\n",
       "      <td>0.000000</td>\n",
       "      <td>0xaa77476c</td>\n",
       "      <td>0x0810b863cdfd8e73294b15b0ffded0e1c38e9d79d65f...</td>\n",
       "      <td>0.001599</td>\n",
       "    </tr>\n",
       "    <tr>\n",
       "      <th>120</th>\n",
       "      <td>15590625</td>\n",
       "      <td>2022-09-22 18:19:23</td>\n",
       "      <td>0x8...f92</td>\n",
       "      <td>0x6...d0f</td>\n",
       "      <td>0.000000</td>\n",
       "      <td>0x095ea7b3</td>\n",
       "      <td>0x0d08014b1e7523423acb9f30d700f58eeed5adf5a0eb...</td>\n",
       "      <td>0.000533</td>\n",
       "    </tr>\n",
       "    <tr>\n",
       "      <th>121</th>\n",
       "      <td>15590628</td>\n",
       "      <td>2022-09-22 18:19:59</td>\n",
       "      <td>0x8...f92</td>\n",
       "      <td>0xa...bef</td>\n",
       "      <td>0.000000</td>\n",
       "      <td>0xe17376b5</td>\n",
       "      <td>0x230790bc798a3e588a21c673c3219a36785a32c73bb3...</td>\n",
       "      <td>0.001064</td>\n",
       "    </tr>\n",
       "  </tbody>\n",
       "</table>\n",
       "<p>122 rows × 8 columns</p>\n",
       "</div>"
      ],
      "text/plain": [
       "    blockNumber                 time from_short   to_short     value  \\\n",
       "0      12455444  2021-05-18 01:35:07  0x9...daa  0x8...f92  0.095000   \n",
       "1      12546661  2021-06-01 05:15:14  0x8...f92  0xe...564  0.010500   \n",
       "2      12546714  2021-06-01 05:26:29  0x8...f92  0xe...564  0.010500   \n",
       "3      12591733  2021-06-08 04:26:14  0x8...f92  0x2...7f5  0.000000   \n",
       "4      12591750  2021-06-08 04:29:36  0x8...f92  0x2...7f5  0.004364   \n",
       "..          ...                  ...        ...        ...       ...   \n",
       "117    15454111  2022-09-01 17:15:54  0x8...f92  0xd...489  0.000000   \n",
       "118    15517393  2022-09-11 22:42:10  0x8...f92  0xa...b48  0.000000   \n",
       "119    15590620  2022-09-22 18:18:23  0x8...f92  0xd...eff  0.000000   \n",
       "120    15590625  2022-09-22 18:19:23  0x8...f92  0x6...d0f  0.000000   \n",
       "121    15590628  2022-09-22 18:19:59  0x8...f92  0xa...bef  0.000000   \n",
       "\n",
       "       methodId                                               hash  txnFeeETH  \n",
       "0            0x  0x0c31ed0cd9e81741ffeb8022a39ef45a66cde1fe52ed...   0.001260  \n",
       "1    0xc04b8d59  0x77599fe1a04114994c4c1ead39ca786b29e0fdb9b4fb...   0.000371  \n",
       "2    0xc04b8d59  0x9899a279a470d23e33a392b17772a25714f6d1ec346b...   0.003928  \n",
       "3    0xf14fcbc8  0x819495e30f801afedfe0d26319631ef7e582c0f27480...   0.000925  \n",
       "4    0xf7a16963  0x77dca0f11cec38aabf40d8e346eb420192bd581051ee...   0.004315  \n",
       "..          ...                                                ...        ...  \n",
       "117  0x15373e3d  0xfd55e3b5bee0dbba4829bdf31d8a31408af0b148007d...   0.001154  \n",
       "118  0x095ea7b3  0x2e63b0b106ed7958592b6d31539f54b8ca37fca66de0...   0.000471  \n",
       "119  0xaa77476c  0x0810b863cdfd8e73294b15b0ffded0e1c38e9d79d65f...   0.001599  \n",
       "120  0x095ea7b3  0x0d08014b1e7523423acb9f30d700f58eeed5adf5a0eb...   0.000533  \n",
       "121  0xe17376b5  0x230790bc798a3e588a21c673c3219a36785a32c73bb3...   0.001064  \n",
       "\n",
       "[122 rows x 8 columns]"
      ]
     },
     "execution_count": 33,
     "metadata": {},
     "output_type": "execute_result"
    }
   ],
   "source": [
    "vars= ['blockNumber','time','from_short','to_short','value','methodId','hash','txnFeeETH']\n",
    "df[vars]"
   ]
  },
  {
   "cell_type": "code",
   "execution_count": 76,
   "metadata": {},
   "outputs": [
    {
     "data": {
      "text/plain": [
       "106    0xa0b86991c6218b36c1d19d4a2e9eb0ce3606eb48\n",
       "Name: to, dtype: object"
      ]
     },
     "execution_count": 76,
     "metadata": {},
     "output_type": "execute_result"
    }
   ],
   "source": [
    "df.loc[df.hash=='0x8d583c900512dc9b2555387ca0b8cae14ac8402f1a6bd1ddec0b14c4f3da6893','to']"
   ]
  },
  {
   "cell_type": "markdown",
   "metadata": {},
   "source": [
    "'Voting' is a kind of 'transaction' (or 'action'), and interestingly it seem the 'methodId' may be used to identify a 'voting' action when == '0x15373e3d', (or maybe use 'functionName')\n",
    "\n",
    "But we have no clue on which proposal this vote is casted and for which decision (in the two examples below, we know two votes were made, but whether or not to the same proposal)"
   ]
  },
  {
   "cell_type": "code",
   "execution_count": 77,
   "metadata": {},
   "outputs": [
    {
     "data": {
      "text/html": [
       "<div>\n",
       "<style scoped>\n",
       "    .dataframe tbody tr th:only-of-type {\n",
       "        vertical-align: middle;\n",
       "    }\n",
       "\n",
       "    .dataframe tbody tr th {\n",
       "        vertical-align: top;\n",
       "    }\n",
       "\n",
       "    .dataframe thead th {\n",
       "        text-align: right;\n",
       "    }\n",
       "</style>\n",
       "<table border=\"1\" class=\"dataframe\">\n",
       "  <thead>\n",
       "    <tr style=\"text-align: right;\">\n",
       "      <th></th>\n",
       "      <th>blockNumber</th>\n",
       "      <th>time</th>\n",
       "      <th>from_short</th>\n",
       "      <th>to_short</th>\n",
       "      <th>value</th>\n",
       "      <th>methodId</th>\n",
       "      <th>hash</th>\n",
       "      <th>txnFeeETH</th>\n",
       "      <th>functionName</th>\n",
       "    </tr>\n",
       "  </thead>\n",
       "  <tbody>\n",
       "    <tr>\n",
       "      <th>115</th>\n",
       "      <td>15454103</td>\n",
       "      <td>2022-09-01 17:14:45</td>\n",
       "      <td>0x8...f92</td>\n",
       "      <td>0xd...489</td>\n",
       "      <td>0.0</td>\n",
       "      <td>0x15373e3d</td>\n",
       "      <td>0xbd23d7cc88f54fac41a56b5596b0af4a3b7693616e8c...</td>\n",
       "      <td>0.001412</td>\n",
       "      <td>castVote(uint256 proposalId, bool support)</td>\n",
       "    </tr>\n",
       "  </tbody>\n",
       "</table>\n",
       "</div>"
      ],
      "text/plain": [
       "    blockNumber                 time from_short   to_short  value    methodId  \\\n",
       "115    15454103  2022-09-01 17:14:45  0x8...f92  0xd...489    0.0  0x15373e3d   \n",
       "\n",
       "                                                  hash  txnFeeETH  \\\n",
       "115  0xbd23d7cc88f54fac41a56b5596b0af4a3b7693616e8c...   0.001412   \n",
       "\n",
       "                                   functionName  \n",
       "115  castVote(uint256 proposalId, bool support)  "
      ]
     },
     "execution_count": 77,
     "metadata": {},
     "output_type": "execute_result"
    }
   ],
   "source": [
    "# https://etherscan.io/tx/0xbd23d7cc88f54fac41a56b5596b0af4a3b7693616e8c3c247b82584c4cef1ad1\n",
    "df.loc[df.hash=='0xbd23d7cc88f54fac41a56b5596b0af4a3b7693616e8c3c247b82584c4cef1ad1',vars+['functionName']]"
   ]
  },
  {
   "cell_type": "code",
   "execution_count": 78,
   "metadata": {},
   "outputs": [
    {
     "data": {
      "text/html": [
       "<div>\n",
       "<style scoped>\n",
       "    .dataframe tbody tr th:only-of-type {\n",
       "        vertical-align: middle;\n",
       "    }\n",
       "\n",
       "    .dataframe tbody tr th {\n",
       "        vertical-align: top;\n",
       "    }\n",
       "\n",
       "    .dataframe thead th {\n",
       "        text-align: right;\n",
       "    }\n",
       "</style>\n",
       "<table border=\"1\" class=\"dataframe\">\n",
       "  <thead>\n",
       "    <tr style=\"text-align: right;\">\n",
       "      <th></th>\n",
       "      <th>blockNumber</th>\n",
       "      <th>time</th>\n",
       "      <th>from_short</th>\n",
       "      <th>to_short</th>\n",
       "      <th>value</th>\n",
       "      <th>methodId</th>\n",
       "      <th>hash</th>\n",
       "      <th>txnFeeETH</th>\n",
       "      <th>functionName</th>\n",
       "    </tr>\n",
       "  </thead>\n",
       "  <tbody>\n",
       "    <tr>\n",
       "      <th>116</th>\n",
       "      <td>15454108</td>\n",
       "      <td>2022-09-01 17:15:33</td>\n",
       "      <td>0x8...f92</td>\n",
       "      <td>0xd...489</td>\n",
       "      <td>0.0</td>\n",
       "      <td>0x15373e3d</td>\n",
       "      <td>0xdaf218fce0fe7e7ac36b0f77349ce0e83c5f21e009a4...</td>\n",
       "      <td>0.001358</td>\n",
       "      <td>castVote(uint256 proposalId, bool support)</td>\n",
       "    </tr>\n",
       "  </tbody>\n",
       "</table>\n",
       "</div>"
      ],
      "text/plain": [
       "    blockNumber                 time from_short   to_short  value    methodId  \\\n",
       "116    15454108  2022-09-01 17:15:33  0x8...f92  0xd...489    0.0  0x15373e3d   \n",
       "\n",
       "                                                  hash  txnFeeETH  \\\n",
       "116  0xdaf218fce0fe7e7ac36b0f77349ce0e83c5f21e009a4...   0.001358   \n",
       "\n",
       "                                   functionName  \n",
       "116  castVote(uint256 proposalId, bool support)  "
      ]
     },
     "execution_count": 78,
     "metadata": {},
     "output_type": "execute_result"
    }
   ],
   "source": [
    "df.loc[df.hash=='0xdaf218fce0fe7e7ac36b0f77349ce0e83c5f21e009a4b39bf421b6c97e931768',vars+['functionName']]"
   ]
  },
  {
   "cell_type": "markdown",
   "metadata": {},
   "source": [
    "A smart contract can be seen as both an account or a contract\n",
    "\n",
    "example: Gitcoin: Governor Alpha\n",
    "\n",
    "Contract address: 0xDbD27635A534A3d3169Ef0498beB56Fb9c937489"
   ]
  },
  {
   "cell_type": "markdown",
   "metadata": {},
   "source": [
    "When retriving all actions related to this smart contract, the API call is identical to that for a (user) account"
   ]
  },
  {
   "cell_type": "code",
   "execution_count": 26,
   "metadata": {},
   "outputs": [
    {
     "name": "stdout",
     "output_type": "stream",
     "text": [
      "<Response [200]>\n"
     ]
    }
   ],
   "source": [
    "params = {\n",
    "    'module': 'account',\n",
    "    'action': 'txlist',\n",
    "    'address': '0xDbD27635A534A3d3169Ef0498beB56Fb9c937489',\n",
    "}\n",
    "\n",
    "res = etherscan(params)"
   ]
  },
  {
   "cell_type": "code",
   "execution_count": 28,
   "metadata": {},
   "outputs": [
    {
     "name": "stdout",
     "output_type": "stream",
     "text": [
      "<class 'pandas.core.frame.DataFrame'>\n",
      "RangeIndex: 2444 entries, 0 to 2443\n",
      "Data columns (total 20 columns):\n",
      " #   Column             Non-Null Count  Dtype \n",
      "---  ------             --------------  ----- \n",
      " 0   blockNumber        2444 non-null   object\n",
      " 1   timeStamp          2444 non-null   object\n",
      " 2   hash               2444 non-null   object\n",
      " 3   nonce              2444 non-null   object\n",
      " 4   blockHash          2444 non-null   object\n",
      " 5   transactionIndex   2444 non-null   object\n",
      " 6   from               2444 non-null   object\n",
      " 7   to                 2444 non-null   object\n",
      " 8   value              2444 non-null   object\n",
      " 9   gas                2444 non-null   object\n",
      " 10  gasPrice           2444 non-null   object\n",
      " 11  isError            2444 non-null   object\n",
      " 12  txreceipt_status   2444 non-null   object\n",
      " 13  input              2444 non-null   object\n",
      " 14  contractAddress    2444 non-null   object\n",
      " 15  cumulativeGasUsed  2444 non-null   object\n",
      " 16  gasUsed            2444 non-null   object\n",
      " 17  confirmations      2444 non-null   object\n",
      " 18  methodId           2444 non-null   object\n",
      " 19  functionName       2444 non-null   object\n",
      "dtypes: object(20)\n",
      "memory usage: 382.0+ KB\n"
     ]
    }
   ],
   "source": [
    "df = pd.DataFrame(res['result'])\n",
    "df.info()"
   ]
  },
  {
   "cell_type": "markdown",
   "metadata": {},
   "source": [
    "For smart contracts, we can extract their source codes"
   ]
  },
  {
   "cell_type": "code",
   "execution_count": 81,
   "metadata": {},
   "outputs": [
    {
     "name": "stdout",
     "output_type": "stream",
     "text": [
      "<Response [200]>\n"
     ]
    }
   ],
   "source": [
    "params = {\n",
    "    'module': 'contract',\n",
    "    'action': 'getsourcecode',\n",
    "    'address': '0xDbD27635A534A3d3169Ef0498beB56Fb9c937489',\n",
    "}\n",
    "\n",
    "res = etherscan(params)"
   ]
  },
  {
   "cell_type": "code",
   "execution_count": 82,
   "metadata": {},
   "outputs": [
    {
     "data": {
      "text/plain": [
       "{'status': '1',\n",
       " 'message': 'OK',\n",
       " 'result': [{'SourceCode': '// SPDX-License-Identifier: NONE\\n\\npragma solidity 0.6.12;\\npragma experimental ABIEncoderV2;\\n\\n\\n\\n// Part: GTCInterface\\n\\ninterface GTCInterface {\\n    function getPriorVotes(address account, uint blockNumber) external view returns (uint96);\\n}\\n\\n// Part: TimelockInterface\\n\\ninterface TimelockInterface {\\n    function delay() external view returns (uint);\\n    function GRACE_PERIOD() external view returns (uint);\\n    function acceptAdmin() external;\\n    function queuedTransactions(bytes32 hash) external view returns (bool);\\n    function queueTransaction(address target, uint value, string calldata signature, bytes calldata data, uint eta) external returns (bytes32);\\n    function cancelTransaction(address target, uint value, string calldata signature, bytes calldata data, uint eta) external;\\n    function executeTransaction(address target, uint value, string calldata signature, bytes calldata data, uint eta) external payable returns (bytes memory);\\n}\\n\\n// File: GovernorAlpha.sol\\n\\ncontract GovernorAlpha {\\n    /// @notice The name of this contract\\n    string public constant name = \"GTC Governor Alpha\";\\n\\n    /// @notice The number of votes in support of a proposal required in order for a quorum to be reached and for a vote to succeed\\n    function quorumVotes() public pure returns (uint) { return 2_500_000e18; } // 2.5% of GTC\\n\\n    /// @notice The number of votes required in order for a voter to become a proposer\\n    function proposalThreshold() public pure returns (uint) { return 1_000_000e18; } // 1% of GTC\\n\\n    /// @notice The maximum number of actions that can be included in a proposal\\n    function proposalMaxOperations() public pure returns (uint) { return 10; } // 10 actions\\n\\n    /// @notice The delay before voting on a proposal may take place, once proposed\\n    function votingDelay() public pure returns (uint) { return 13140; } // ~2 days in blocks (assuming 15s blocks)\\n\\n    /// @notice The duration of voting on a proposal, in blocks\\n    function votingPeriod() public pure returns (uint) { return 40_320; } // ~7 days in blocks (assuming 15s blocks)\\n\\n    /// @notice The address of the GTC Protocol Timelock\\n    TimelockInterface public timelock;\\n\\n    /// @notice The address of the GTC governance token\\n    GTCInterface public gtc;\\n\\n    /// @notice The total number of proposals\\n    uint public proposalCount;\\n\\n    struct Proposal {\\n        /// @notice Unique id for looking up a proposal\\n        uint id;\\n\\n        /// @notice Creator of the proposal\\n        address proposer;\\n\\n        /// @notice The timestamp that the proposal will be available for execution, set once the vote succeeds\\n        uint eta;\\n\\n        /// @notice the ordered list of target addresses for calls to be made\\n        address[] targets;\\n\\n        /// @notice The ordered list of values (i.e. msg.value) to be passed to the calls to be made\\n        uint[] values;\\n\\n        /// @notice The ordered list of function signatures to be called\\n        string[] signatures;\\n\\n        /// @notice The ordered list of calldata to be passed to each call\\n        bytes[] calldatas;\\n\\n        /// @notice The block at which voting begins: holders must delegate their votes prior to this block\\n        uint startBlock;\\n\\n        /// @notice The block at which voting ends: votes must be cast prior to this block\\n        uint endBlock;\\n\\n        /// @notice Current number of votes in favor of this proposal\\n        uint forVotes;\\n\\n        /// @notice Current number of votes in opposition to this proposal\\n        uint againstVotes;\\n\\n        /// @notice Flag marking whether the proposal has been canceled\\n        bool canceled;\\n\\n        /// @notice Flag marking whether the proposal has been executed\\n        bool executed;\\n\\n        /// @notice Receipts of ballots for the entire set of voters\\n        mapping (address => Receipt) receipts;\\n    }\\n\\n    /// @notice Ballot receipt record for a voter\\n    struct Receipt {\\n        /// @notice Whether or not a vote has been cast\\n        bool hasVoted;\\n\\n        /// @notice Whether or not the voter supports the proposal\\n        bool support;\\n\\n        /// @notice The number of votes the voter had, which were cast\\n        uint96 votes;\\n    }\\n\\n    /// @notice Possible states that a proposal may be in\\n    enum ProposalState {\\n        Pending,\\n        Active,\\n        Canceled,\\n        Defeated,\\n        Succeeded,\\n        Queued,\\n        Expired,\\n        Executed\\n    }\\n\\n    /// @notice The official record of all proposals ever proposed\\n    mapping (uint => Proposal) public proposals;\\n\\n    /// @notice The latest proposal for each proposer\\n    mapping (address => uint) public latestProposalIds;\\n\\n    /// @notice The EIP-712 typehash for the contract\\'s domain\\n    bytes32 public constant DOMAIN_TYPEHASH = keccak256(\"EIP712Domain(string name,uint256 chainId,address verifyingContract)\");\\n\\n    /// @notice The EIP-712 typehash for the ballot struct used by the contract\\n    bytes32 public constant BALLOT_TYPEHASH = keccak256(\"Ballot(uint256 proposalId,bool support)\");\\n\\n    /// @notice An event emitted when a new proposal is created\\n    event ProposalCreated(uint id, address proposer, address[] targets, uint[] values, string[] signatures, bytes[] calldatas, uint startBlock, uint endBlock, string description);\\n\\n    /// @notice An event emitted when a vote has been cast on a proposal\\n    event VoteCast(address voter, uint proposalId, bool support, uint votes);\\n\\n    /// @notice An event emitted when a proposal has been canceled\\n    event ProposalCanceled(uint id);\\n\\n    /// @notice An event emitted when a proposal has been queued in the Timelock\\n    event ProposalQueued(uint id, uint eta);\\n\\n    /// @notice An event emitted when a proposal has been executed in the Timelock\\n    event ProposalExecuted(uint id);\\n\\n    /**\\n     * @notice Construct a new GovernorAlpha contract \\n     * @param timelock_ - address for the TimeLock contract \\n     * @param gtc_ - address of ERC20 that claims will be distributed from  \\n     **/\\n\\n    constructor(address timelock_, address gtc_) public {\\n        timelock = TimelockInterface(timelock_);\\n        gtc = GTCInterface(gtc_);\\n    }\\n\\n    function propose(address[] memory targets, uint[] memory values, string[] memory signatures, bytes[] memory calldatas, string memory description) public returns (uint) {\\n        require(gtc.getPriorVotes(msg.sender, sub256(block.number, 1)) > proposalThreshold(), \"GovernorAlpha::propose: proposer votes below proposal threshold\");\\n        require(targets.length == values.length && targets.length == signatures.length && targets.length == calldatas.length, \"GovernorAlpha::propose: proposal function information parity mismatch\");\\n        require(targets.length != 0, \"GovernorAlpha::propose: must provide actions\");\\n        require(targets.length <= proposalMaxOperations(), \"GovernorAlpha::propose: too many actions\");\\n\\n        uint latestProposalId = latestProposalIds[msg.sender];\\n        if (latestProposalId != 0) {\\n          ProposalState proposersLatestProposalState = state(latestProposalId);\\n          require(proposersLatestProposalState != ProposalState.Active, \"GovernorAlpha::propose: one live proposal per proposer, found an already active proposal\");\\n          require(proposersLatestProposalState != ProposalState.Pending, \"GovernorAlpha::propose: one live proposal per proposer, found an already pending proposal\");\\n        }\\n\\n        uint startBlock = add256(block.number, votingDelay());\\n        uint endBlock = add256(startBlock, votingPeriod());\\n\\n        proposalCount++;\\n        Proposal memory newProposal = Proposal({\\n            id: proposalCount,\\n            proposer: msg.sender,\\n            eta: 0,\\n            targets: targets,\\n            values: values,\\n            signatures: signatures,\\n            calldatas: calldatas,\\n            startBlock: startBlock,\\n            endBlock: endBlock,\\n            forVotes: 0,\\n            againstVotes: 0,\\n            canceled: false,\\n            executed: false\\n        });\\n\\n        proposals[newProposal.id] = newProposal;\\n        latestProposalIds[newProposal.proposer] = newProposal.id;\\n\\n        emit ProposalCreated(newProposal.id, msg.sender, targets, values, signatures, calldatas, startBlock, endBlock, description);\\n        return newProposal.id;\\n    }\\n\\n    function queue(uint proposalId) public {\\n        require(state(proposalId) == ProposalState.Succeeded, \"GovernorAlpha::queue: proposal can only be queued if it is succeeded\");\\n        Proposal storage proposal = proposals[proposalId];\\n        uint eta = add256(block.timestamp, timelock.delay());\\n        for (uint i = 0; i < proposal.targets.length; i++) {\\n            _queueOrRevert(proposal.targets[i], proposal.values[i], proposal.signatures[i], proposal.calldatas[i], eta);\\n        }\\n        proposal.eta = eta;\\n        emit ProposalQueued(proposalId, eta);\\n    }\\n\\n    function _queueOrRevert(address target, uint value, string memory signature, bytes memory data, uint eta) internal {\\n        require(!timelock.queuedTransactions(keccak256(abi.encode(target, value, signature, data, eta))), \"GovernorAlpha::_queueOrRevert: proposal action already queued at eta\");\\n        timelock.queueTransaction(target, value, signature, data, eta);\\n    }\\n\\n    function execute(uint proposalId) public payable {\\n        require(state(proposalId) == ProposalState.Queued, \"GovernorAlpha::execute: proposal can only be executed if it is queued\");\\n        Proposal storage proposal = proposals[proposalId];\\n        proposal.executed = true;\\n        for (uint i = 0; i < proposal.targets.length; i++) {\\n            timelock.executeTransaction.value(proposal.values[i])(proposal.targets[i], proposal.values[i], proposal.signatures[i], proposal.calldatas[i], proposal.eta);\\n        }\\n        emit ProposalExecuted(proposalId);\\n    }\\n\\n    function cancel(uint proposalId) public {\\n        ProposalState state = state(proposalId);\\n        require(state != ProposalState.Executed, \"GovernorAlpha::cancel: cannot cancel executed proposal\");\\n\\n        Proposal storage proposal = proposals[proposalId];\\n        require(gtc.getPriorVotes(proposal.proposer, sub256(block.number, 1)) < proposalThreshold(), \"GovernorAlpha::cancel: proposer above threshold\");\\n\\n        proposal.canceled = true;\\n        for (uint i = 0; i < proposal.targets.length; i++) {\\n            timelock.cancelTransaction(proposal.targets[i], proposal.values[i], proposal.signatures[i], proposal.calldatas[i], proposal.eta);\\n        }\\n\\n        emit ProposalCanceled(proposalId);\\n    }\\n\\n    function getActions(uint proposalId) public view returns (address[] memory targets, uint[] memory values, string[] memory signatures, bytes[] memory calldatas) {\\n        Proposal storage p = proposals[proposalId];\\n        return (p.targets, p.values, p.signatures, p.calldatas);\\n    }\\n\\n    function getReceipt(uint proposalId, address voter) public view returns (Receipt memory) {\\n        return proposals[proposalId].receipts[voter];\\n    }\\n\\n    function state(uint proposalId) public view returns (ProposalState) {\\n        require(proposalCount >= proposalId && proposalId > 0, \"GovernorAlpha::state: invalid proposal id\");\\n        Proposal storage proposal = proposals[proposalId];\\n        if (proposal.canceled) {\\n            return ProposalState.Canceled;\\n        } else if (block.number <= proposal.startBlock) {\\n            return ProposalState.Pending;\\n        } else if (block.number <= proposal.endBlock) {\\n            return ProposalState.Active;\\n        } else if (proposal.forVotes <= proposal.againstVotes || proposal.forVotes < quorumVotes()) {\\n            return ProposalState.Defeated;\\n        } else if (proposal.eta == 0) {\\n            return ProposalState.Succeeded;\\n        } else if (proposal.executed) {\\n            return ProposalState.Executed;\\n        } else if (block.timestamp >= add256(proposal.eta, timelock.GRACE_PERIOD())) {\\n            return ProposalState.Expired;\\n        } else {\\n            return ProposalState.Queued;\\n        }\\n    }\\n\\n    function castVote(uint proposalId, bool support) public {\\n        return _castVote(msg.sender, proposalId, support);\\n    }\\n\\n    function castVoteBySig(uint proposalId, bool support, uint8 v, bytes32 r, bytes32 s) public {\\n        bytes32 domainSeparator = keccak256(abi.encode(DOMAIN_TYPEHASH, keccak256(bytes(name)), getChainId(), address(this)));\\n        bytes32 structHash = keccak256(abi.encode(BALLOT_TYPEHASH, proposalId, support));\\n        bytes32 digest = keccak256(abi.encodePacked(\"\\\\x19\\\\x01\", domainSeparator, structHash));\\n        address signatory = ecrecover(digest, v, r, s);\\n        require(signatory != address(0), \"GovernorAlpha::castVoteBySig: invalid signature\");\\n        return _castVote(signatory, proposalId, support);\\n    }\\n\\n    function _castVote(address voter, uint proposalId, bool support) internal {\\n        require(state(proposalId) == ProposalState.Active, \"GovernorAlpha::_castVote: voting is closed\");\\n        Proposal storage proposal = proposals[proposalId];\\n        Receipt storage receipt = proposal.receipts[voter];\\n        require(receipt.hasVoted == false, \"GovernorAlpha::_castVote: voter already voted\");\\n        uint96 votes = gtc.getPriorVotes(voter, proposal.startBlock);\\n\\n        if (support) {\\n            proposal.forVotes = add256(proposal.forVotes, votes);\\n        } else {\\n            proposal.againstVotes = add256(proposal.againstVotes, votes);\\n        }\\n\\n        receipt.hasVoted = true;\\n        receipt.support = support;\\n        receipt.votes = votes;\\n\\n        emit VoteCast(voter, proposalId, support, votes);\\n    }\\n\\n    function add256(uint256 a, uint256 b) internal pure returns (uint) {\\n        uint c = a + b;\\n        require(c >= a, \"addition overflow\");\\n        return c;\\n    }\\n\\n    function sub256(uint256 a, uint256 b) internal pure returns (uint) {\\n        require(b <= a, \"subtraction underflow\");\\n        return a - b;\\n    }\\n\\n    function getChainId() internal pure returns (uint) {\\n        uint chainId;\\n        assembly { chainId := chainid() }\\n        return chainId;\\n    }\\n}\\n',\n",
       "   'ABI': '[{\"inputs\":[{\"internalType\":\"address\",\"name\":\"timelock_\",\"type\":\"address\"},{\"internalType\":\"address\",\"name\":\"gtc_\",\"type\":\"address\"}],\"stateMutability\":\"nonpayable\",\"type\":\"constructor\"},{\"anonymous\":false,\"inputs\":[{\"indexed\":false,\"internalType\":\"uint256\",\"name\":\"id\",\"type\":\"uint256\"}],\"name\":\"ProposalCanceled\",\"type\":\"event\"},{\"anonymous\":false,\"inputs\":[{\"indexed\":false,\"internalType\":\"uint256\",\"name\":\"id\",\"type\":\"uint256\"},{\"indexed\":false,\"internalType\":\"address\",\"name\":\"proposer\",\"type\":\"address\"},{\"indexed\":false,\"internalType\":\"address[]\",\"name\":\"targets\",\"type\":\"address[]\"},{\"indexed\":false,\"internalType\":\"uint256[]\",\"name\":\"values\",\"type\":\"uint256[]\"},{\"indexed\":false,\"internalType\":\"string[]\",\"name\":\"signatures\",\"type\":\"string[]\"},{\"indexed\":false,\"internalType\":\"bytes[]\",\"name\":\"calldatas\",\"type\":\"bytes[]\"},{\"indexed\":false,\"internalType\":\"uint256\",\"name\":\"startBlock\",\"type\":\"uint256\"},{\"indexed\":false,\"internalType\":\"uint256\",\"name\":\"endBlock\",\"type\":\"uint256\"},{\"indexed\":false,\"internalType\":\"string\",\"name\":\"description\",\"type\":\"string\"}],\"name\":\"ProposalCreated\",\"type\":\"event\"},{\"anonymous\":false,\"inputs\":[{\"indexed\":false,\"internalType\":\"uint256\",\"name\":\"id\",\"type\":\"uint256\"}],\"name\":\"ProposalExecuted\",\"type\":\"event\"},{\"anonymous\":false,\"inputs\":[{\"indexed\":false,\"internalType\":\"uint256\",\"name\":\"id\",\"type\":\"uint256\"},{\"indexed\":false,\"internalType\":\"uint256\",\"name\":\"eta\",\"type\":\"uint256\"}],\"name\":\"ProposalQueued\",\"type\":\"event\"},{\"anonymous\":false,\"inputs\":[{\"indexed\":false,\"internalType\":\"address\",\"name\":\"voter\",\"type\":\"address\"},{\"indexed\":false,\"internalType\":\"uint256\",\"name\":\"proposalId\",\"type\":\"uint256\"},{\"indexed\":false,\"internalType\":\"bool\",\"name\":\"support\",\"type\":\"bool\"},{\"indexed\":false,\"internalType\":\"uint256\",\"name\":\"votes\",\"type\":\"uint256\"}],\"name\":\"VoteCast\",\"type\":\"event\"},{\"inputs\":[],\"name\":\"BALLOT_TYPEHASH\",\"outputs\":[{\"internalType\":\"bytes32\",\"name\":\"\",\"type\":\"bytes32\"}],\"stateMutability\":\"view\",\"type\":\"function\"},{\"inputs\":[],\"name\":\"DOMAIN_TYPEHASH\",\"outputs\":[{\"internalType\":\"bytes32\",\"name\":\"\",\"type\":\"bytes32\"}],\"stateMutability\":\"view\",\"type\":\"function\"},{\"inputs\":[{\"internalType\":\"uint256\",\"name\":\"proposalId\",\"type\":\"uint256\"}],\"name\":\"cancel\",\"outputs\":[],\"stateMutability\":\"nonpayable\",\"type\":\"function\"},{\"inputs\":[{\"internalType\":\"uint256\",\"name\":\"proposalId\",\"type\":\"uint256\"},{\"internalType\":\"bool\",\"name\":\"support\",\"type\":\"bool\"}],\"name\":\"castVote\",\"outputs\":[],\"stateMutability\":\"nonpayable\",\"type\":\"function\"},{\"inputs\":[{\"internalType\":\"uint256\",\"name\":\"proposalId\",\"type\":\"uint256\"},{\"internalType\":\"bool\",\"name\":\"support\",\"type\":\"bool\"},{\"internalType\":\"uint8\",\"name\":\"v\",\"type\":\"uint8\"},{\"internalType\":\"bytes32\",\"name\":\"r\",\"type\":\"bytes32\"},{\"internalType\":\"bytes32\",\"name\":\"s\",\"type\":\"bytes32\"}],\"name\":\"castVoteBySig\",\"outputs\":[],\"stateMutability\":\"nonpayable\",\"type\":\"function\"},{\"inputs\":[{\"internalType\":\"uint256\",\"name\":\"proposalId\",\"type\":\"uint256\"}],\"name\":\"execute\",\"outputs\":[],\"stateMutability\":\"payable\",\"type\":\"function\"},{\"inputs\":[{\"internalType\":\"uint256\",\"name\":\"proposalId\",\"type\":\"uint256\"}],\"name\":\"getActions\",\"outputs\":[{\"internalType\":\"address[]\",\"name\":\"targets\",\"type\":\"address[]\"},{\"internalType\":\"uint256[]\",\"name\":\"values\",\"type\":\"uint256[]\"},{\"internalType\":\"string[]\",\"name\":\"signatures\",\"type\":\"string[]\"},{\"internalType\":\"bytes[]\",\"name\":\"calldatas\",\"type\":\"bytes[]\"}],\"stateMutability\":\"view\",\"type\":\"function\"},{\"inputs\":[{\"internalType\":\"uint256\",\"name\":\"proposalId\",\"type\":\"uint256\"},{\"internalType\":\"address\",\"name\":\"voter\",\"type\":\"address\"}],\"name\":\"getReceipt\",\"outputs\":[{\"components\":[{\"internalType\":\"bool\",\"name\":\"hasVoted\",\"type\":\"bool\"},{\"internalType\":\"bool\",\"name\":\"support\",\"type\":\"bool\"},{\"internalType\":\"uint96\",\"name\":\"votes\",\"type\":\"uint96\"}],\"internalType\":\"struct GovernorAlpha.Receipt\",\"name\":\"\",\"type\":\"tuple\"}],\"stateMutability\":\"view\",\"type\":\"function\"},{\"inputs\":[],\"name\":\"gtc\",\"outputs\":[{\"internalType\":\"contract GTCInterface\",\"name\":\"\",\"type\":\"address\"}],\"stateMutability\":\"view\",\"type\":\"function\"},{\"inputs\":[{\"internalType\":\"address\",\"name\":\"\",\"type\":\"address\"}],\"name\":\"latestProposalIds\",\"outputs\":[{\"internalType\":\"uint256\",\"name\":\"\",\"type\":\"uint256\"}],\"stateMutability\":\"view\",\"type\":\"function\"},{\"inputs\":[],\"name\":\"name\",\"outputs\":[{\"internalType\":\"string\",\"name\":\"\",\"type\":\"string\"}],\"stateMutability\":\"view\",\"type\":\"function\"},{\"inputs\":[],\"name\":\"proposalCount\",\"outputs\":[{\"internalType\":\"uint256\",\"name\":\"\",\"type\":\"uint256\"}],\"stateMutability\":\"view\",\"type\":\"function\"},{\"inputs\":[],\"name\":\"proposalMaxOperations\",\"outputs\":[{\"internalType\":\"uint256\",\"name\":\"\",\"type\":\"uint256\"}],\"stateMutability\":\"pure\",\"type\":\"function\"},{\"inputs\":[],\"name\":\"proposalThreshold\",\"outputs\":[{\"internalType\":\"uint256\",\"name\":\"\",\"type\":\"uint256\"}],\"stateMutability\":\"pure\",\"type\":\"function\"},{\"inputs\":[{\"internalType\":\"uint256\",\"name\":\"\",\"type\":\"uint256\"}],\"name\":\"proposals\",\"outputs\":[{\"internalType\":\"uint256\",\"name\":\"id\",\"type\":\"uint256\"},{\"internalType\":\"address\",\"name\":\"proposer\",\"type\":\"address\"},{\"internalType\":\"uint256\",\"name\":\"eta\",\"type\":\"uint256\"},{\"internalType\":\"uint256\",\"name\":\"startBlock\",\"type\":\"uint256\"},{\"internalType\":\"uint256\",\"name\":\"endBlock\",\"type\":\"uint256\"},{\"internalType\":\"uint256\",\"name\":\"forVotes\",\"type\":\"uint256\"},{\"internalType\":\"uint256\",\"name\":\"againstVotes\",\"type\":\"uint256\"},{\"internalType\":\"bool\",\"name\":\"canceled\",\"type\":\"bool\"},{\"internalType\":\"bool\",\"name\":\"executed\",\"type\":\"bool\"}],\"stateMutability\":\"view\",\"type\":\"function\"},{\"inputs\":[{\"internalType\":\"address[]\",\"name\":\"targets\",\"type\":\"address[]\"},{\"internalType\":\"uint256[]\",\"name\":\"values\",\"type\":\"uint256[]\"},{\"internalType\":\"string[]\",\"name\":\"signatures\",\"type\":\"string[]\"},{\"internalType\":\"bytes[]\",\"name\":\"calldatas\",\"type\":\"bytes[]\"},{\"internalType\":\"string\",\"name\":\"description\",\"type\":\"string\"}],\"name\":\"propose\",\"outputs\":[{\"internalType\":\"uint256\",\"name\":\"\",\"type\":\"uint256\"}],\"stateMutability\":\"nonpayable\",\"type\":\"function\"},{\"inputs\":[{\"internalType\":\"uint256\",\"name\":\"proposalId\",\"type\":\"uint256\"}],\"name\":\"queue\",\"outputs\":[],\"stateMutability\":\"nonpayable\",\"type\":\"function\"},{\"inputs\":[],\"name\":\"quorumVotes\",\"outputs\":[{\"internalType\":\"uint256\",\"name\":\"\",\"type\":\"uint256\"}],\"stateMutability\":\"pure\",\"type\":\"function\"},{\"inputs\":[{\"internalType\":\"uint256\",\"name\":\"proposalId\",\"type\":\"uint256\"}],\"name\":\"state\",\"outputs\":[{\"internalType\":\"enum GovernorAlpha.ProposalState\",\"name\":\"\",\"type\":\"uint8\"}],\"stateMutability\":\"view\",\"type\":\"function\"},{\"inputs\":[],\"name\":\"timelock\",\"outputs\":[{\"internalType\":\"contract TimelockInterface\",\"name\":\"\",\"type\":\"address\"}],\"stateMutability\":\"view\",\"type\":\"function\"},{\"inputs\":[],\"name\":\"votingDelay\",\"outputs\":[{\"internalType\":\"uint256\",\"name\":\"\",\"type\":\"uint256\"}],\"stateMutability\":\"pure\",\"type\":\"function\"},{\"inputs\":[],\"name\":\"votingPeriod\",\"outputs\":[{\"internalType\":\"uint256\",\"name\":\"\",\"type\":\"uint256\"}],\"stateMutability\":\"pure\",\"type\":\"function\"}]',\n",
       "   'ContractName': 'GovernorAlpha',\n",
       "   'CompilerVersion': 'v0.6.12+commit.27d51765',\n",
       "   'OptimizationUsed': '1',\n",
       "   'Runs': '200',\n",
       "   'ConstructorArguments': '00000000000000000000000057a8865cfb1ecef7253c27da6b4bc3daee5be518000000000000000000000000de30da39c46104798bb5aa3fe8b9e0e1f348163f',\n",
       "   'EVMVersion': 'Default',\n",
       "   'Library': '',\n",
       "   'LicenseType': 'None',\n",
       "   'Proxy': '0',\n",
       "   'Implementation': '',\n",
       "   'SwarmSource': ''}]}"
      ]
     },
     "execution_count": 82,
     "metadata": {},
     "output_type": "execute_result"
    }
   ],
   "source": [
    "res"
   ]
  },
  {
   "cell_type": "markdown",
   "metadata": {},
   "source": [
    "## Balance"
   ]
  },
  {
   "cell_type": "markdown",
   "metadata": {},
   "source": [
    "We can get the current Ether balance of an account (in wei):\n",
    "\n",
    "(Note: I think the way of this number is calculated is = sum(TOKEN_NUMBER * TOKEN_PRICE))"
   ]
  },
  {
   "cell_type": "code",
   "execution_count": 79,
   "metadata": {},
   "outputs": [
    {
     "name": "stdout",
     "output_type": "stream",
     "text": [
      "<Response [200]>\n"
     ]
    }
   ],
   "source": [
    "params = {\n",
    "    'module': 'account',\n",
    "    'action': 'balance',\n",
    "    'address': '0x894Aa5F1E45454677A8560ddE3B45Cb5C427Ef92', # address of the account\n",
    "}\n",
    "\n",
    "res = etherscan(params)"
   ]
  },
  {
   "cell_type": "code",
   "execution_count": 80,
   "metadata": {},
   "outputs": [
    {
     "data": {
      "text/plain": [
       "{'status': '1', 'message': 'OK', 'result': '10713051250887695955'}"
      ]
     },
     "execution_count": 80,
     "metadata": {},
     "output_type": "execute_result"
    }
   ],
   "source": [
    "res"
   ]
  },
  {
   "cell_type": "markdown",
   "metadata": {},
   "source": [
    "We can get the current TOKEN balance of an account:\n",
    "\n",
    "e.g. the USD coin balance of the example user 'wombat.eth'"
   ]
  },
  {
   "cell_type": "code",
   "execution_count": 88,
   "metadata": {},
   "outputs": [
    {
     "name": "stdout",
     "output_type": "stream",
     "text": [
      "<Response [200]>\n"
     ]
    }
   ],
   "source": [
    "params = {\n",
    "    'module': 'account',\n",
    "    'action': 'tokenbalance',\n",
    "    'contractaddress': '0xA0b86991c6218b36c1d19D4a2e9Eb0cE3606eB48', # address of smart contract of the USD coin\n",
    "    'address': '0x894Aa5F1E45454677A8560ddE3B45Cb5C427Ef92', # address of the account\n",
    "}\n",
    "\n",
    "res = etherscan(params)"
   ]
  },
  {
   "cell_type": "code",
   "execution_count": 89,
   "metadata": {},
   "outputs": [
    {
     "data": {
      "text/plain": [
       "{'status': '1', 'message': 'OK', 'result': '7414020000'}"
      ]
     },
     "execution_count": 89,
     "metadata": {},
     "output_type": "execute_result"
    }
   ],
   "source": [
    "res"
   ]
  }
 ],
 "metadata": {
  "kernelspec": {
   "display_name": "Python 3.10.4 ('IS808')",
   "language": "python",
   "name": "python3"
  },
  "language_info": {
   "codemirror_mode": {
    "name": "ipython",
    "version": 3
   },
   "file_extension": ".py",
   "mimetype": "text/x-python",
   "name": "python",
   "nbconvert_exporter": "python",
   "pygments_lexer": "ipython3",
   "version": "3.10.4"
  },
  "orig_nbformat": 4,
  "vscode": {
   "interpreter": {
    "hash": "8cc4887c50b7ebbdbba5641e0f4082b79a2b586903323a46961ab14ae90948e5"
   }
  }
 },
 "nbformat": 4,
 "nbformat_minor": 2
}
