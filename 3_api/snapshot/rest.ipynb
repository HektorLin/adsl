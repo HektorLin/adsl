{
 "cells": [
  {
   "cell_type": "markdown",
   "metadata": {},
   "source": [
    "## Snapshot and GraphQL"
   ]
  },
  {
   "cell_type": "code",
   "execution_count": 1,
   "metadata": {},
   "outputs": [],
   "source": [
    "import requests\n",
    "import pandas as pd\n",
    "import numpy as np"
   ]
  },
  {
   "cell_type": "markdown",
   "metadata": {},
   "source": [
    "Snapshot Endpoints\n",
    "\n",
    "https://docs.snapshot.org/"
   ]
  },
  {
   "cell_type": "code",
   "execution_count": 2,
   "metadata": {},
   "outputs": [],
   "source": [
    "ENDPOINT_DEMO = 'https://testnet.snapshot.org/graphql'\n",
    "\n",
    "ENDPOINT_PRO = 'https://hub.snapshot.org/graphql'\n",
    "\n",
    "\n",
    "ENDPOINT = ENDPOINT_PRO\n"
   ]
  },
  {
   "cell_type": "markdown",
   "metadata": {},
   "source": [
    "We can make GraphQL queries with standard POST requests."
   ]
  },
  {
   "cell_type": "code",
   "execution_count": 3,
   "metadata": {},
   "outputs": [],
   "source": [
    "# https://datagy.io/python-requests-authentication/\n",
    "\n",
    "def api(query, params=None):\n",
    "\n",
    "    response = requests.post(ENDPOINT,\n",
    "                            headers={                      \n",
    "                                'accept': 'application/json'\n",
    "                            },\n",
    "                            params={\n",
    "                                'query': query\n",
    "                            })\n",
    "\n",
    "    print(response)\n",
    "    return response.json()['data']\n"
   ]
  },
  {
   "cell_type": "code",
   "execution_count": 4,
   "metadata": {},
   "outputs": [
    {
     "name": "stdout",
     "output_type": "stream",
     "text": [
      "<Response [200]>\n"
     ]
    }
   ],
   "source": [
    "query = \"\"\"\n",
    "query {\n",
    "  space(id: \"yam.eth\") {\n",
    "    id\n",
    "    name\n",
    "    about\n",
    "    network\n",
    "    symbol\n",
    "    members\n",
    "  }\n",
    "}\n",
    "\"\"\"\n",
    "\n",
    "res = api(query)"
   ]
  },
  {
   "cell_type": "code",
   "execution_count": 5,
   "metadata": {},
   "outputs": [
    {
     "data": {
      "text/plain": [
       "{'space': {'id': 'yam.eth',\n",
       "  'name': 'Yam',\n",
       "  'about': 'Only delegated YAM may be used to vote on proposals. You can delegate to yourself or another address here: yam.finance/#/delegate',\n",
       "  'network': '1',\n",
       "  'symbol': 'YAM',\n",
       "  'members': ['0x683A78bA1f6b25E29fbBC9Cd1BFA29A51520De84',\n",
       "   '0x9Ebc8AD4011C7f559743Eb25705CCF5A9B58D0bc',\n",
       "   '0xC3edCBe0F93a6258c3933e86fFaA3bcF12F8D695',\n",
       "   '0xbdac5657eDd13F47C3DD924eAa36Cf1Ec49672cc',\n",
       "   '0xEC3281124d4c2FCA8A88e3076C1E7749CfEcb7F2']}}"
      ]
     },
     "execution_count": 5,
     "metadata": {},
     "output_type": "execute_result"
    }
   ],
   "source": [
    "res\n"
   ]
  },
  {
   "cell_type": "code",
   "execution_count": null,
   "metadata": {},
   "outputs": [],
   "source": [
    "query = \"\"\"\n",
    "query {\n",
    "  spaces(\n",
    "    first: 20,\n",
    "    skip: 0,\n",
    "    orderBy: \"created\",\n",
    "    orderDirection: asc\n",
    "  ) {\n",
    "    id\n",
    "    name\n",
    "    about\n",
    "    network\n",
    "    symbol\n",
    "    strategies {\n",
    "      name\n",
    "      params\n",
    "    }\n",
    "    admins\n",
    "    members\n",
    "    filters {\n",
    "      minScore\n",
    "      onlyMembers\n",
    "    }\n",
    "    plugins\n",
    "  }\n",
    "}\n",
    "\"\"\"\n",
    "\n",
    "res = api(query)"
   ]
  },
  {
   "cell_type": "code",
   "execution_count": null,
   "metadata": {},
   "outputs": [],
   "source": [
    "\n",
    "res"
   ]
  },
  {
   "cell_type": "markdown",
   "metadata": {},
   "source": [
    "What if want to fetch all spaces? It's a bit cumbersome with standard POST requests, but we can use the [gql](https://pypi.org/project/gql/) client. "
   ]
  },
  {
   "cell_type": "markdown",
   "metadata": {},
   "source": [
    "#### GQL Client"
   ]
  },
  {
   "cell_type": "code",
   "execution_count": 10,
   "metadata": {},
   "outputs": [],
   "source": [
    "# !pip install gql\n",
    "# !pip install aiohttp \n",
    "from gql import gql, Client\n",
    "from gql.transport.aiohttp import AIOHTTPTransport\n"
   ]
  },
  {
   "cell_type": "code",
   "execution_count": 11,
   "metadata": {},
   "outputs": [],
   "source": [
    "transport = AIOHTTPTransport(url=ENDPOINT)\n",
    "client = Client(\n",
    "    transport=transport\n",
    "    #fetch_schema_from_transport=True\n",
    ")\n"
   ]
  },
  {
   "cell_type": "markdown",
   "metadata": {},
   "source": [
    "Let's test a simple query.\n",
    "First, we need build it, when we execute it.\n",
    "\n",
    "_Note:_ gql will throw an error if the query is malformed."
   ]
  },
  {
   "cell_type": "code",
   "execution_count": 12,
   "metadata": {},
   "outputs": [],
   "source": [
    "space_query = gql(\n",
    "\"\"\"\n",
    "query {\n",
    "space(id: \"yam.eth\") {\n",
    "    id\n",
    "    name\n",
    "    about\n",
    "    network\n",
    "    symbol\n",
    "    members\n",
    "    }\n",
    "}\n",
    "\"\"\")"
   ]
  },
  {
   "cell_type": "code",
   "execution_count": null,
   "metadata": {},
   "outputs": [],
   "source": [
    "## Error in Jupyter-like environments.\n",
    "result = client.execute(space_query)\n",
    "print(result)"
   ]
  },
  {
   "cell_type": "code",
   "execution_count": 14,
   "metadata": {},
   "outputs": [
    {
     "name": "stdout",
     "output_type": "stream",
     "text": [
      "{'space': {'id': 'yam.eth', 'name': 'Yam', 'about': 'Only delegated YAM may be used to vote on proposals. You can delegate to yourself or another address here: yam.finance/#/delegate', 'network': '1', 'symbol': 'YAM', 'members': ['0x683A78bA1f6b25E29fbBC9Cd1BFA29A51520De84', '0x9Ebc8AD4011C7f559743Eb25705CCF5A9B58D0bc', '0xC3edCBe0F93a6258c3933e86fFaA3bcF12F8D695', '0xbdac5657eDd13F47C3DD924eAa36Cf1Ec49672cc', '0xEC3281124d4c2FCA8A88e3076C1E7749CfEcb7F2']}}\n"
     ]
    }
   ],
   "source": [
    "result = await client.execute_async(space_query)\n",
    "print(result)"
   ]
  },
  {
   "cell_type": "markdown",
   "metadata": {},
   "source": [
    "#### GraphQL Variables\n",
    "\n",
    "Now we want to fetch _all_ spaces.\n",
    "\n",
    "We need to use a special feature of GraphQL, that is the ability to pass **variables** into queries.\n",
    "\n",
    "Variables are identified by the dollar sign `$` and must indicate their type (e.g., `Int`). \n",
    "\n",
    "If a variable is mandatory, it is followed by an exclamation mark."
   ]
  },
  {
   "cell_type": "code",
   "execution_count": 16,
   "metadata": {},
   "outputs": [],
   "source": [
    "# $ variable\n",
    "# ! mandantory\n",
    "\n",
    "spaces_query = gql(\"\"\"\n",
    "  query ($first: Int!, $skip: Int!) {\n",
    "    spaces(\n",
    "      first: $first,\n",
    "      skip: $skip,\n",
    "      orderBy: \"created\",\n",
    "      orderDirection: asc\n",
    "    ) \n",
    "    {\n",
    "      id\n",
    "      name\n",
    "      about\n",
    "      network\n",
    "      symbol\n",
    "      strategies {\n",
    "        name\n",
    "        params\n",
    "      }\n",
    "      admins\n",
    "      members\n",
    "      filters {\n",
    "        minScore\n",
    "        onlyMembers\n",
    "      }\n",
    "      plugins\n",
    "    }\n",
    "  }\n",
    "\"\"\")\n"
   ]
  },
  {
   "cell_type": "code",
   "execution_count": 15,
   "metadata": {},
   "outputs": [],
   "source": [
    "## spaces_tmp is a temp variable we can use to store partial computations\n",
    "## in case an error (e.g., a timeout) occurs\n",
    "spaces_tmp = []"
   ]
  },
  {
   "cell_type": "code",
   "execution_count": 17,
   "metadata": {},
   "outputs": [
    {
     "name": "stdout",
     "output_type": "stream",
     "text": [
      "1000\n",
      "2000\n",
      "3000\n",
      "4000\n",
      "5000\n",
      "6000\n",
      "7000\n",
      "8000\n",
      "9000\n",
      "10000\n",
      "10956\n",
      "**I am done fetching!**\n"
     ]
    }
   ],
   "source": [
    "\n",
    "## Fetch'em all!\n",
    "spaces = spaces_tmp\n",
    "first = 1000\n",
    "skip = len(spaces)\n",
    "fetch = True\n",
    "while fetch:\n",
    "    vars = {\"first\": first, \"skip\": skip}\n",
    "    res = await client.execute_async(spaces_query, variable_values=vars)\n",
    "    # print(type(res))\n",
    "    # print(res)\n",
    "    \n",
    "    if not res['spaces']:\n",
    "        print('**I am done fetching!**')\n",
    "        fetch = False\n",
    "    else:\n",
    "        spaces.extend(res['spaces'])\n",
    "        print(len(spaces))\n",
    "        skip += first# fetch = False\n"
   ]
  },
  {
   "cell_type": "code",
   "execution_count": 18,
   "metadata": {},
   "outputs": [
    {
     "data": {
      "text/plain": [
       "10956"
      ]
     },
     "execution_count": 18,
     "metadata": {},
     "output_type": "execute_result"
    }
   ],
   "source": [
    "len(spaces)\n"
   ]
  },
  {
   "cell_type": "markdown",
   "metadata": {},
   "source": [
    "Let's put everything in a Pandas data frame."
   ]
  },
  {
   "cell_type": "code",
   "execution_count": 20,
   "metadata": {},
   "outputs": [],
   "source": [
    "df = pd.DataFrame(spaces)\n",
    "\n",
    "# df['id'] = df['id'].astype('string')\n",
    "# df['name'] = df['name'].astype('string')\n",
    "# df['about'] = df['about'].astype('string')\n",
    "# df['logo'] = df['logo'].astype('string')'"
   ]
  },
  {
   "cell_type": "code",
   "execution_count": 21,
   "metadata": {},
   "outputs": [
    {
     "name": "stdout",
     "output_type": "stream",
     "text": [
      "<class 'pandas.core.frame.DataFrame'>\n",
      "RangeIndex: 10956 entries, 0 to 10955\n",
      "Data columns (total 10 columns):\n",
      " #   Column      Non-Null Count  Dtype \n",
      "---  ------      --------------  ----- \n",
      " 0   id          10956 non-null  object\n",
      " 1   name        10956 non-null  object\n",
      " 2   about       10956 non-null  object\n",
      " 3   network     10956 non-null  object\n",
      " 4   symbol      10956 non-null  object\n",
      " 5   strategies  10956 non-null  object\n",
      " 6   admins      10956 non-null  object\n",
      " 7   members     10956 non-null  object\n",
      " 8   filters     10956 non-null  object\n",
      " 9   plugins     10956 non-null  object\n",
      "dtypes: object(10)\n",
      "memory usage: 856.1+ KB\n"
     ]
    }
   ],
   "source": [
    "df.info()"
   ]
  },
  {
   "cell_type": "code",
   "execution_count": 23,
   "metadata": {},
   "outputs": [],
   "source": [
    "df.to_json(\"data/daos_snapshot.json\", orient=\"records\")\n",
    "\n",
    "## Visually explore the saved file.\n",
    "# Is it a mess? Prettify it with VS Code auto-formatter. \n",
    "# Don't you remember the shorcut? Check our python_warmup lecture.\n",
    " "
   ]
  },
  {
   "cell_type": "code",
   "execution_count": null,
   "metadata": {},
   "outputs": [],
   "source": [
    "df.head()\n"
   ]
  },
  {
   "cell_type": "markdown",
   "metadata": {},
   "source": [
    "Now let's create a function to make our life easier.\n",
    "\n",
    "The function `gql_all` will fetch all paginated responses from an endpoint until it returns an empty response.\n",
    "\n",
    "_Notice:_ the _async_ keyword and the _try/except_ statement"
   ]
  },
  {
   "cell_type": "code",
   "execution_count": null,
   "metadata": {},
   "outputs": [],
   "source": [
    "async def gql_all(query, field, first=1000, skip=0, initial_list=None, \n",
    "                  counter = True):\n",
    "\n",
    "    out = []\n",
    "    \n",
    "    if initial_list:\n",
    "        out = initial_list\n",
    "        skip = len(out)\n",
    "\n",
    "    fetch = True\n",
    "    try:\n",
    "        while fetch:\n",
    "            vars = {\"first\": first, \"skip\": skip}\n",
    "            res = await client.execute_async(query, variable_values=vars)\n",
    "            # print(type(res))\n",
    "            # print(res)\n",
    "            \n",
    "            if not res[field]:\n",
    "                print('**I am done fetching!**')\n",
    "                fetch = False\n",
    "            else:\n",
    "                out.extend(res[field])\n",
    "                skip += first# fetch = False\n",
    "                if counter: print(len(out))\n",
    "    except:\n",
    "        print(\"**An error occurred, exiting early.**\")\n",
    "    \n",
    "    return out"
   ]
  },
  {
   "cell_type": "code",
   "execution_count": null,
   "metadata": {},
   "outputs": [],
   "source": [
    "res = await gql_all(spaces_query, \"spaces\")"
   ]
  },
  {
   "cell_type": "code",
   "execution_count": null,
   "metadata": {},
   "outputs": [],
   "source": [
    "res"
   ]
  }
 ],
 "metadata": {
  "kernelspec": {
   "display_name": "Python 3.10.4 ('IS808')",
   "language": "python",
   "name": "python3"
  },
  "language_info": {
   "codemirror_mode": {
    "name": "ipython",
    "version": 3
   },
   "file_extension": ".py",
   "mimetype": "text/x-python",
   "name": "python",
   "nbconvert_exporter": "python",
   "pygments_lexer": "ipython3",
   "version": "3.10.4"
  },
  "orig_nbformat": 4,
  "vscode": {
   "interpreter": {
    "hash": "8cc4887c50b7ebbdbba5641e0f4082b79a2b586903323a46961ab14ae90948e5"
   }
  }
 },
 "nbformat": 4,
 "nbformat_minor": 2
}
