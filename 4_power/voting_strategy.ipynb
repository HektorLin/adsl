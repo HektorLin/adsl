{
 "cells": [
  {
   "cell_type": "markdown",
   "metadata": {},
   "source": [
    "Place this code piece next to the .../4_power/home_assignment.ipynb to run"
   ]
  },
  {
   "cell_type": "code",
   "execution_count": 172,
   "metadata": {},
   "outputs": [
    {
     "name": "stdout",
     "output_type": "stream",
     "text": [
      "1.4.3\n",
      "1.21.5\n",
      "2.28.1\n",
      "3.5.2\n"
     ]
    }
   ],
   "source": [
    "import requests\n",
    "import pandas as pd\n",
    "import numpy as np\n",
    "import matplotlib.pyplot as plt\n",
    "\n",
    "from gql import gql, Client\n",
    "from gql.transport.aiohttp import AIOHTTPTransport\n",
    "\n",
    "from etherscan import Etherscan\n",
    "\n",
    "import json\n",
    "import time\n",
    "import os\n",
    "import random\n",
    "import math\n",
    "\n",
    "import scipy.stats as st\n",
    "\n",
    "\n",
    "print(pd.__version__)\n",
    "print(np.__version__)\n",
    "print(requests.__version__)\n",
    "print(plt.matplotlib.__version__)\n"
   ]
  },
  {
   "cell_type": "code",
   "execution_count": 173,
   "metadata": {},
   "outputs": [],
   "source": [
    "# https://martin-thoma.com/configuration-files-in-python/\n",
    "\n",
    "import json\n",
    "\n",
    "with open(\"../3_api/.private/keys.json\") as keys_file:\n",
    "    KEYS = json.load(keys_file)\n",
    "\n",
    "# Note: don't print the key, or if you do, delete the cell's output\n",
    "# (cell outputs are saved and can be sent to Github)."
   ]
  },
  {
   "cell_type": "code",
   "execution_count": 174,
   "metadata": {},
   "outputs": [],
   "source": [
    "## SNAPSHOT\n",
    "###########\n",
    "\n",
    "SNAPSHOT_ENDPOINT = \"https://hub.snapshot.org/graphql\"\n",
    "\n",
    "snapshot = Client(\n",
    "    transport=AIOHTTPTransport(url=SNAPSHOT_ENDPOINT)\n",
    ")\n",
    "\n",
    "\n",
    "def snapshot_rest(query, params=None):\n",
    "\n",
    "    response = requests.post(SNAPSHOT_ENDPOINT,\n",
    "                            headers={                      \n",
    "                                'accept': 'application/json'\n",
    "                            },\n",
    "                            params={\n",
    "                                'query': query\n",
    "                            })\n",
    "\n",
    "    print(response)\n",
    "    return response.json()['data']"
   ]
  },
  {
   "cell_type": "code",
   "execution_count": 175,
   "metadata": {},
   "outputs": [],
   "source": [
    "def pd_read_json(file):\n",
    "    ## Prevents Value too big Error.\n",
    "    with open(file) as f:\n",
    "        df = json.load(f)\n",
    "    df = pd.DataFrame(df)\n",
    "    return df"
   ]
  },
  {
   "cell_type": "code",
   "execution_count": 176,
   "metadata": {},
   "outputs": [],
   "source": [
    "def get_query(filename, do_gql=False):\n",
    "    with open(\"gql_queries/\" + filename.replace(\".gql\", \"\") + \".gql\") as f:\n",
    "        query = f.read()\n",
    "        if do_gql: query = gql(query)\n",
    "    return query\n"
   ]
  },
  {
   "cell_type": "code",
   "execution_count": 177,
   "metadata": {},
   "outputs": [],
   "source": [
    "async def gql_all(query, field, first=1000, skip=None, initial_list=None, \n",
    "                  counter = True, limit=None, save=None, save_interval=10, clear_on_save = False, append=True, rest=False, data_dir=\"data\", save_counter = 1, vars=None):\n",
    "\n",
    "    ## The returned value and the varible used to accumulate results.\n",
    "    out = []\n",
    "\n",
    "    ## Utility function to save intermediate and final results.\n",
    "    def save_json():\n",
    "\n",
    "        # Pandas has problem load pure json saves.\n",
    "        # Hence we create a pandas Dataframe and save it.\n",
    "        # nonlocal append\n",
    "        # flag = \"a\" if append else \"w\"\n",
    "        # with open(\"data/\" + save, flag) as f:\n",
    "        #     json.dump(out, f)\n",
    "        #     print(\"Saved.\")\n",
    "\n",
    "        nonlocal out\n",
    "        df = pd.DataFrame(out)\n",
    "\n",
    "        if clear_on_save:\n",
    "            \n",
    "            nonlocal save_counter\n",
    "            \n",
    "            sv = str(save_counter)\n",
    "            sv = sv.zfill(5)\n",
    "            save_counter += 1\n",
    "\n",
    "            filename = save.replace('.json', '_' + sv + '.json')\n",
    "            \n",
    "            out = []\n",
    "            out_str = \"Saved and cleared.\"\n",
    "        else:\n",
    "            filename = save\n",
    "            out_str = \"Saved.\"\n",
    "        \n",
    "        df.to_json(data_dir + \"/\" + filename, orient=\"records\")\n",
    "        print(out_str)\n",
    "\n",
    "        \n",
    "    ## Load initial list.\n",
    "    ## If no skip is provided, then skip is set to the length of\n",
    "    ## the initial list, otherwise we use the user-specified value\n",
    "    if initial_list:\n",
    "        out = initial_list\n",
    "        if skip is None:\n",
    "            skip = len(out)\n",
    "    elif skip is None:\n",
    "        skip = 0\n",
    "\n",
    "    ## Make a GQL query object, if necessary.\n",
    "    if not rest and type(query) == str:\n",
    "        query = gql(query)\n",
    "        \n",
    "\n",
    "    my_counter = 0\n",
    "    fetch = True\n",
    "    try:\n",
    "        while fetch:\n",
    "            \n",
    "            my_counter += 1\n",
    "            if limit and my_counter > limit:\n",
    "                print('**Limit reached: ', limit)\n",
    "                fetch = False\n",
    "                continue\n",
    "\n",
    "            if rest:\n",
    "\n",
    "                # Building query manually.\n",
    "                q = query.replace(\"($first: Int!, $skip: Int!)\", \"\")\n",
    "                q = q.replace(\"$first\", str(first))\n",
    "                q = q.replace(\"$skip\", str(skip))\n",
    "                # print(q)\n",
    "\n",
    "                ## Optional additional variables.\n",
    "                if vars:\n",
    "                    for v in vars:\n",
    "                        q = q.replace(\"$\" + v, str(vars[v]))\n",
    "\n",
    "                res = snapshot_rest(q)\n",
    "                \n",
    "            else:\n",
    "                \n",
    "                _vars = {\"first\": first, \"skip\": skip}\n",
    "                \n",
    "                ## Optional additional variables.\n",
    "                if vars:\n",
    "                    _vars = _vars | vars \n",
    "\n",
    "                res = await snapshot.execute_async(query, variable_values=_vars)\n",
    "            \n",
    "            if not res[field]:\n",
    "                print('**I am done fetching!**')\n",
    "                fetch = False\n",
    "            else:\n",
    "                out.extend(res[field])\n",
    "                skip += first\n",
    "                if counter: print(my_counter, len(out))\n",
    "\n",
    "                if save and my_counter % save_interval == 0:\n",
    "                    save_json()\n",
    "\n",
    "        if save and my_counter % save_interval != 0:\n",
    "            save_json()\n",
    "\n",
    "    except Exception as e:\n",
    "        print(str(e))\n",
    "        print(\"**An error occurred, exiting early.**\")\n",
    "        if save: save_json()\n",
    "    \n",
    "    return out"
   ]
  },
  {
   "cell_type": "code",
   "execution_count": 178,
   "metadata": {},
   "outputs": [],
   "source": [
    "def pd_read_dir(dir, blacklist=None, whitelist=None, ext=('.json')):\n",
    "    dir_df = pd.DataFrame()\n",
    "    \n",
    "\n",
    "    for file in os.listdir(dir):\n",
    "        if blacklist and file in blacklist:\n",
    "            continue\n",
    "        if whitelist and file not in whitelist:\n",
    "            continue\n",
    "\n",
    "        if file.endswith(ext):\n",
    "            tmp_df = pd_read_json(dir + '/' + file)\n",
    "            dir_df = pd.concat([dir_df, tmp_df])\n",
    "    \n",
    "    return dir_df"
   ]
  },
  {
   "cell_type": "code",
   "execution_count": 179,
   "metadata": {},
   "outputs": [],
   "source": [
    "ENDPOINT = 'https://hub.snapshot.org/graphql'\n",
    "\n",
    "def snapshot_api(query, params=None):\n",
    "\n",
    "    response = requests.post(ENDPOINT,\n",
    "                            headers={                      \n",
    "                                'accept': 'application/json'\n",
    "                            },\n",
    "                            params={\n",
    "                                'query': query\n",
    "                            })\n",
    "\n",
    "    print(response)\n",
    "    return response.json()['data']"
   ]
  },
  {
   "cell_type": "markdown",
   "metadata": {},
   "source": [
    "Experiment with one:\n",
    "https://snapshot.org/#/ens.eth/proposal/0x4a1aedbd9d22295f358dc4028b5a3f0a602bb5f1089dabdc2b63bf2bcce45834"
   ]
  },
  {
   "cell_type": "code",
   "execution_count": 221,
   "metadata": {},
   "outputs": [
    {
     "name": "stdout",
     "output_type": "stream",
     "text": [
      "<Response [400]>\n"
     ]
    },
    {
     "ename": "KeyError",
     "evalue": "'data'",
     "output_type": "error",
     "traceback": [
      "\u001b[1;31m---------------------------------------------------------------------------\u001b[0m",
      "\u001b[1;31mKeyError\u001b[0m                                  Traceback (most recent call last)",
      "\u001b[1;32mc:\\Users\\Administrator\\Course\\IS 808\\adsl\\4_power\\voting_strategy.ipynb Cell 11\u001b[0m in \u001b[0;36m<cell line: 25>\u001b[1;34m()\u001b[0m\n\u001b[0;32m      <a href='vscode-notebook-cell:/c%3A/Users/Administrator/Course/IS%20808/adsl/4_power/voting_strategy.ipynb#X11sZmlsZQ%3D%3D?line=0'>1</a>\u001b[0m query \u001b[39m=\u001b[39m \u001b[39m\"\"\"\u001b[39m\n\u001b[0;32m      <a href='vscode-notebook-cell:/c%3A/Users/Administrator/Course/IS%20808/adsl/4_power/voting_strategy.ipynb#X11sZmlsZQ%3D%3D?line=1'>2</a>\u001b[0m \u001b[39mquery \u001b[39m\u001b[39m{\u001b[39m\n\u001b[0;32m      <a href='vscode-notebook-cell:/c%3A/Users/Administrator/Course/IS%20808/adsl/4_power/voting_strategy.ipynb#X11sZmlsZQ%3D%3D?line=2'>3</a>\u001b[0m \u001b[39m  proposals (\u001b[39m\n\u001b[1;32m   (...)\u001b[0m\n\u001b[0;32m     <a href='vscode-notebook-cell:/c%3A/Users/Administrator/Course/IS%20808/adsl/4_power/voting_strategy.ipynb#X11sZmlsZQ%3D%3D?line=21'>22</a>\u001b[0m \u001b[39m}\u001b[39m\n\u001b[0;32m     <a href='vscode-notebook-cell:/c%3A/Users/Administrator/Course/IS%20808/adsl/4_power/voting_strategy.ipynb#X11sZmlsZQ%3D%3D?line=22'>23</a>\u001b[0m \u001b[39m\"\"\"\u001b[39m\n\u001b[1;32m---> <a href='vscode-notebook-cell:/c%3A/Users/Administrator/Course/IS%20808/adsl/4_power/voting_strategy.ipynb#X11sZmlsZQ%3D%3D?line=24'>25</a>\u001b[0m res \u001b[39m=\u001b[39m snapshot_api(query)\n",
      "\u001b[1;32mc:\\Users\\Administrator\\Course\\IS 808\\adsl\\4_power\\voting_strategy.ipynb Cell 11\u001b[0m in \u001b[0;36msnapshot_api\u001b[1;34m(query, params)\u001b[0m\n\u001b[0;32m      <a href='vscode-notebook-cell:/c%3A/Users/Administrator/Course/IS%20808/adsl/4_power/voting_strategy.ipynb#X11sZmlsZQ%3D%3D?line=4'>5</a>\u001b[0m response \u001b[39m=\u001b[39m requests\u001b[39m.\u001b[39mpost(ENDPOINT,\n\u001b[0;32m      <a href='vscode-notebook-cell:/c%3A/Users/Administrator/Course/IS%20808/adsl/4_power/voting_strategy.ipynb#X11sZmlsZQ%3D%3D?line=5'>6</a>\u001b[0m                         headers\u001b[39m=\u001b[39m{                      \n\u001b[0;32m      <a href='vscode-notebook-cell:/c%3A/Users/Administrator/Course/IS%20808/adsl/4_power/voting_strategy.ipynb#X11sZmlsZQ%3D%3D?line=6'>7</a>\u001b[0m                             \u001b[39m'\u001b[39m\u001b[39maccept\u001b[39m\u001b[39m'\u001b[39m: \u001b[39m'\u001b[39m\u001b[39mapplication/json\u001b[39m\u001b[39m'\u001b[39m\n\u001b[1;32m   (...)\u001b[0m\n\u001b[0;32m     <a href='vscode-notebook-cell:/c%3A/Users/Administrator/Course/IS%20808/adsl/4_power/voting_strategy.ipynb#X11sZmlsZQ%3D%3D?line=9'>10</a>\u001b[0m                             \u001b[39m'\u001b[39m\u001b[39mquery\u001b[39m\u001b[39m'\u001b[39m: query\n\u001b[0;32m     <a href='vscode-notebook-cell:/c%3A/Users/Administrator/Course/IS%20808/adsl/4_power/voting_strategy.ipynb#X11sZmlsZQ%3D%3D?line=10'>11</a>\u001b[0m                         })\n\u001b[0;32m     <a href='vscode-notebook-cell:/c%3A/Users/Administrator/Course/IS%20808/adsl/4_power/voting_strategy.ipynb#X11sZmlsZQ%3D%3D?line=12'>13</a>\u001b[0m \u001b[39mprint\u001b[39m(response)\n\u001b[1;32m---> <a href='vscode-notebook-cell:/c%3A/Users/Administrator/Course/IS%20808/adsl/4_power/voting_strategy.ipynb#X11sZmlsZQ%3D%3D?line=13'>14</a>\u001b[0m \u001b[39mreturn\u001b[39;00m response\u001b[39m.\u001b[39;49mjson()[\u001b[39m'\u001b[39;49m\u001b[39mdata\u001b[39;49m\u001b[39m'\u001b[39;49m]\n",
      "\u001b[1;31mKeyError\u001b[0m: 'data'"
     ]
    }
   ],
   "source": [
    "query = \"\"\"\n",
    "query {\n",
    "  proposals (\n",
    "    where: {first: 10000, skip:10000}\n",
    "  ) {\n",
    "    id\n",
    "    author\n",
    "    created\n",
    "    title\n",
    "    state\n",
    "    choices\n",
    "    scores\n",
    "    scores_by_strategy\n",
    "    scores_state\n",
    "    scores_total\n",
    "    scores_updated\n",
    "    strategies {\n",
    "      network\n",
    "      params\n",
    "    }\n",
    "  }\n",
    "}\n",
    "\"\"\"\n",
    "\n",
    "res = snapshot_api(query)"
   ]
  },
  {
   "cell_type": "code",
   "execution_count": 32,
   "metadata": {},
   "outputs": [
    {
     "data": {
      "text/plain": [
       "{'id': '0x4a1aedbd9d22295f358dc4028b5a3f0a602bb5f1089dabdc2b63bf2bcce45834',\n",
       " 'author': '0x0904Dac3347eA47d208F3Fd67402D039a3b99859',\n",
       " 'created': 1662678865,\n",
       " 'title': '[EP2.2.4] [Social] ENS Endaoment',\n",
       " 'state': 'closed',\n",
       " 'choices': ['For', 'Against', 'Abstain'],\n",
       " 'scores': [2638265.201268065, 1379.7267441613128, 11.868487021979314],\n",
       " 'scores_by_strategy': [[12237.15008958228, 2626028.0511784824],\n",
       "  [0, 1379.7267441613128],\n",
       "  [0, 11.868487021979314]],\n",
       " 'scores_state': 'final',\n",
       " 'scores_total': 2639656.796499248,\n",
       " 'scores_updated': 1663110863,\n",
       " 'strategies': [{'network': '1',\n",
       "   'params': {'symbol': 'ENS (delegated)',\n",
       "    'strategies': [{'name': 'erc20-votes',\n",
       "      'params': {'symbol': 'ENS',\n",
       "       'address': '0xC18360217D8F7Ab5e7c516566761Ea12Ce7F9D72',\n",
       "       'decimals': 18}}]}},\n",
       "  {'network': '1',\n",
       "   'params': {'symbol': 'ENS',\n",
       "    'address': '0xC18360217D8F7Ab5e7c516566761Ea12Ce7F9D72',\n",
       "    'decimals': 18}}]}"
      ]
     },
     "execution_count": 32,
     "metadata": {},
     "output_type": "execute_result"
    }
   ],
   "source": [
    "res['proposals'][0]"
   ]
  },
  {
   "cell_type": "code",
   "execution_count": 33,
   "metadata": {},
   "outputs": [
    {
     "data": {
      "text/plain": [
       "{'id': '0x4a1aedbd9d22295f358dc4028b5a3f0a602bb5f1089dabdc2b63bf2bcce45834',\n",
       " 'author': '0x0904Dac3347eA47d208F3Fd67402D039a3b99859',\n",
       " 'created': 1662678865,\n",
       " 'title': '[EP2.2.4] [Social] ENS Endaoment',\n",
       " 'state': 'closed',\n",
       " 'choices': ['For', 'Against', 'Abstain'],\n",
       " 'scores': [2638265.201268065, 1379.7267441613128, 11.868487021979314],\n",
       " 'scores_by_strategy': [[12237.15008958228, 2626028.0511784824],\n",
       "  [0, 1379.7267441613128],\n",
       "  [0, 11.868487021979314]],\n",
       " 'scores_state': 'final',\n",
       " 'scores_total': 2639656.796499248,\n",
       " 'scores_updated': 1663110863,\n",
       " 'strategies': [{'network': '1',\n",
       "   'params': {'symbol': 'ENS (delegated)',\n",
       "    'strategies': [{'name': 'erc20-votes',\n",
       "      'params': {'symbol': 'ENS',\n",
       "       'address': '0xC18360217D8F7Ab5e7c516566761Ea12Ce7F9D72',\n",
       "       'decimals': 18}}]}},\n",
       "  {'network': '1',\n",
       "   'params': {'symbol': 'ENS',\n",
       "    'address': '0xC18360217D8F7Ab5e7c516566761Ea12Ce7F9D72',\n",
       "    'decimals': 18}}]}"
      ]
     },
     "execution_count": 33,
     "metadata": {},
     "output_type": "execute_result"
    }
   ],
   "source": [
    "res['proposals'][0]"
   ]
  },
  {
   "cell_type": "code",
   "execution_count": 37,
   "metadata": {},
   "outputs": [
    {
     "data": {
      "text/plain": [
       "True"
      ]
     },
     "execution_count": 37,
     "metadata": {},
     "output_type": "execute_result"
    }
   ],
   "source": [
    "res['proposals'][0]['scores'][0] == sum(res['proposals'][0]['scores_by_strategy'][0])"
   ]
  },
  {
   "cell_type": "code",
   "execution_count": 59,
   "metadata": {},
   "outputs": [],
   "source": [
    "df = pd.DataFrame(res['proposals'][0]['choices'])\n",
    "df.columns = ['choices']\n",
    "df['id'] = res['proposals'][0]['id']"
   ]
  },
  {
   "cell_type": "code",
   "execution_count": 60,
   "metadata": {},
   "outputs": [],
   "source": [
    "strategy_types = len(res['proposals'][0]['strategies'])"
   ]
  },
  {
   "cell_type": "code",
   "execution_count": 61,
   "metadata": {},
   "outputs": [
    {
     "data": {
      "text/plain": [
       "{'network': '1',\n",
       " 'params': {'symbol': 'ENS (delegated)',\n",
       "  'strategies': [{'name': 'erc20-votes',\n",
       "    'params': {'symbol': 'ENS',\n",
       "     'address': '0xC18360217D8F7Ab5e7c516566761Ea12Ce7F9D72',\n",
       "     'decimals': 18}}]}}"
      ]
     },
     "execution_count": 61,
     "metadata": {},
     "output_type": "execute_result"
    }
   ],
   "source": [
    "res['proposals'][0]['strategies'][0]"
   ]
  },
  {
   "cell_type": "code",
   "execution_count": 62,
   "metadata": {},
   "outputs": [],
   "source": [
    "for i in range(0,strategy_types):\n",
    "    strategy_name = res['proposals'][0]['strategies'][i]['params']['symbol']\n",
    "    strategy_name = 'strategy_' +  strategy_name\n",
    "    df[strategy_name] = None"
   ]
  },
  {
   "cell_type": "code",
   "execution_count": 66,
   "metadata": {},
   "outputs": [
    {
     "data": {
      "text/html": [
       "<div>\n",
       "<style scoped>\n",
       "    .dataframe tbody tr th:only-of-type {\n",
       "        vertical-align: middle;\n",
       "    }\n",
       "\n",
       "    .dataframe tbody tr th {\n",
       "        vertical-align: top;\n",
       "    }\n",
       "\n",
       "    .dataframe thead th {\n",
       "        text-align: right;\n",
       "    }\n",
       "</style>\n",
       "<table border=\"1\" class=\"dataframe\">\n",
       "  <thead>\n",
       "    <tr style=\"text-align: right;\">\n",
       "      <th></th>\n",
       "      <th>choices</th>\n",
       "      <th>id</th>\n",
       "      <th>strategy_ENS (delegated)</th>\n",
       "      <th>strategy_ENS</th>\n",
       "    </tr>\n",
       "  </thead>\n",
       "  <tbody>\n",
       "    <tr>\n",
       "      <th>0</th>\n",
       "      <td>For</td>\n",
       "      <td>0x4a1aedbd9d22295f358dc4028b5a3f0a602bb5f1089d...</td>\n",
       "      <td>None</td>\n",
       "      <td>None</td>\n",
       "    </tr>\n",
       "    <tr>\n",
       "      <th>1</th>\n",
       "      <td>Against</td>\n",
       "      <td>0x4a1aedbd9d22295f358dc4028b5a3f0a602bb5f1089d...</td>\n",
       "      <td>None</td>\n",
       "      <td>None</td>\n",
       "    </tr>\n",
       "    <tr>\n",
       "      <th>2</th>\n",
       "      <td>Abstain</td>\n",
       "      <td>0x4a1aedbd9d22295f358dc4028b5a3f0a602bb5f1089d...</td>\n",
       "      <td>None</td>\n",
       "      <td>None</td>\n",
       "    </tr>\n",
       "  </tbody>\n",
       "</table>\n",
       "</div>"
      ],
      "text/plain": [
       "   choices                                                 id  \\\n",
       "0      For  0x4a1aedbd9d22295f358dc4028b5a3f0a602bb5f1089d...   \n",
       "1  Against  0x4a1aedbd9d22295f358dc4028b5a3f0a602bb5f1089d...   \n",
       "2  Abstain  0x4a1aedbd9d22295f358dc4028b5a3f0a602bb5f1089d...   \n",
       "\n",
       "  strategy_ENS (delegated) strategy_ENS  \n",
       "0                     None         None  \n",
       "1                     None         None  \n",
       "2                     None         None  "
      ]
     },
     "execution_count": 66,
     "metadata": {},
     "output_type": "execute_result"
    }
   ],
   "source": [
    "df"
   ]
  },
  {
   "cell_type": "markdown",
   "metadata": {},
   "source": [
    "Another one: https://snapshot.org/#/cakevote.eth/proposal/bafkreiaaqkkd74p6npxmjohb63hzzulpmjfdaewqzs5ql2dvkrke6cj22i"
   ]
  },
  {
   "cell_type": "code",
   "execution_count": 64,
   "metadata": {},
   "outputs": [
    {
     "name": "stdout",
     "output_type": "stream",
     "text": [
      "<Response [200]>\n"
     ]
    }
   ],
   "source": [
    "query = \"\"\"\n",
    "query {\n",
    "  proposals (\n",
    "    where: { id: \"bafkreiaaqkkd74p6npxmjohb63hzzulpmjfdaewqzs5ql2dvkrke6cj22i\"}\n",
    "  ) {\n",
    "    id\n",
    "    author\n",
    "    created\n",
    "    title\n",
    "    state\n",
    "    choices\n",
    "    scores\n",
    "    scores_by_strategy\n",
    "    scores_state\n",
    "    scores_total\n",
    "    scores_updated\n",
    "    strategies {\n",
    "      network\n",
    "      params\n",
    "    }\n",
    "  }\n",
    "}\n",
    "\"\"\"\n",
    "\n",
    "res = snapshot_api(query)"
   ]
  },
  {
   "cell_type": "code",
   "execution_count": 65,
   "metadata": {},
   "outputs": [
    {
     "data": {
      "text/plain": [
       "{'id': 'bafkreiaaqkkd74p6npxmjohb63hzzulpmjfdaewqzs5ql2dvkrke6cj22i',\n",
       " 'author': '0xaaFb9b50A560dA16519811C7cbc48DCd17320262',\n",
       " 'created': 1665077667,\n",
       " 'title': 'Index GamingShiba/ Volt (V2)',\n",
       " 'state': 'closed',\n",
       " 'choices': ['Make Pool Available for LP Token deposit', 'Remain as is.'],\n",
       " 'scores': [35151.57636478451, 94808.5769715756],\n",
       " 'scores_by_strategy': [[35151.57636478451], [94808.5769715756]],\n",
       " 'scores_state': 'final',\n",
       " 'scores_total': 129960.1533363601,\n",
       " 'scores_updated': 1665111613,\n",
       " 'strategies': [{'network': '56',\n",
       "   'params': {'symbol': 'CAKE',\n",
       "    'address': '0x0E09FaBB73Bd3Ade0a17ECC321fD13a19e81cE82',\n",
       "    'decimals': 18}}]}"
      ]
     },
     "execution_count": 65,
     "metadata": {},
     "output_type": "execute_result"
    }
   ],
   "source": [
    "res['proposals'][0]"
   ]
  },
  {
   "cell_type": "markdown",
   "metadata": {},
   "source": [
    "https://snapshot.org/#/aavegotchi.eth/proposal/0x5a2dc2a36b6d616a087c16cf2f4713e87abad28d9eb292a0e78a9872dec44665"
   ]
  },
  {
   "cell_type": "code",
   "execution_count": 202,
   "metadata": {},
   "outputs": [
    {
     "name": "stdout",
     "output_type": "stream",
     "text": [
      "<Response [200]>\n"
     ]
    }
   ],
   "source": [
    "query = \"\"\"\n",
    "query {\n",
    "  proposals (\n",
    "    where: { id: \"0x5a2dc2a36b6d616a087c16cf2f4713e87abad28d9eb292a0e78a9872dec44665\"}\n",
    "  ) {\n",
    "    id\n",
    "    author\n",
    "    created\n",
    "    title\n",
    "    state\n",
    "    choices\n",
    "    scores\n",
    "    scores_by_strategy\n",
    "    scores_state\n",
    "    scores_total\n",
    "    scores_updated\n",
    "    strategies {\n",
    "      network\n",
    "      params\n",
    "    }\n",
    "  }\n",
    "}\n",
    "\"\"\"\n",
    "\n",
    "res = snapshot_api(query)"
   ]
  },
  {
   "cell_type": "code",
   "execution_count": 203,
   "metadata": {},
   "outputs": [
    {
     "data": {
      "text/plain": [
       "{'id': '0x5a2dc2a36b6d616a087c16cf2f4713e87abad28d9eb292a0e78a9872dec44665',\n",
       " 'author': '0x2848b9f2D4FaEBaA4838c41071684c70688B455d',\n",
       " 'created': 1662176177,\n",
       " 'title': 'Airdrop Gotchi Respec Potion',\n",
       " 'state': 'closed',\n",
       " 'choices': ['Yes, Airdrop  Potion', 'No', 'Abstaining'],\n",
       " 'scores': [8637203.777684046, 1225116.9494226407, 776264.5436798697],\n",
       " 'scores_by_strategy': [[276085.4077079329,\n",
       "   5751131,\n",
       "   37659.36997611606,\n",
       "   2572328],\n",
       "  [24562.171634978316, 802735, 9483.777787661942, 388336],\n",
       "  [12566.216659130614, 617031, 1187.3270207391856, 145480]],\n",
       " 'scores_state': 'final',\n",
       " 'scores_total': 10638585.270786561,\n",
       " 'scores_updated': 1663002012,\n",
       " 'strategies': [{'network': '137',\n",
       "   'params': {'limit': 200,\n",
       "    'symbol': 'GHST',\n",
       "    'strategy': {'name': 'aavegotchi',\n",
       "     'params': {'decimals': 18,\n",
       "      'tokenAddress': '0x385Eeac5cB85A38A9a07A70c73e0a3271CfB54A7',\n",
       "      'stakingAddress': '0xA02d547512Bb90002807499F05495Fe9C4C3943f',\n",
       "      'ghstUsdcAddress': '0x096c5ccb33cfc5732bcd1f3195c13dbefc4c82f4',\n",
       "      'ghstWethAddress': '0xccb9d2100037f1253e6c1682adf7dc9944498aff',\n",
       "      'ghstQuickAddress': '0x8b1fd78ad67c7da09b682c5392b65ca7caa101b9'}}}},\n",
       "  {'network': '137',\n",
       "   'params': {'limit': 500,\n",
       "    'symbol': 'AGIP',\n",
       "    'strategy': {'name': 'aavegotchi-agip',\n",
       "     'params': {'tokenAddress': '0x86935f11c86623dec8a25696e1c19a8659cbf95d'}}}},\n",
       "  {'network': '137',\n",
       "   'params': {'limit': 500,\n",
       "    'symbol': 'GHST',\n",
       "    'strategy': {'name': 'erc20-balance-of',\n",
       "     'params': {'address': '0x385Eeac5cB85A38A9a07A70c73e0a3271CfB54A7',\n",
       "      'decimals': 18}}}},\n",
       "  {'network': '137',\n",
       "   'params': {'symbol': 'AGIP17',\n",
       "    'strategy': {'name': 'aavegotchi-agip-17',\n",
       "     'params': {'symbol': 'REALM'}}}}]}"
      ]
     },
     "execution_count": 203,
     "metadata": {},
     "output_type": "execute_result"
    }
   ],
   "source": [
    "res['proposals'][0]"
   ]
  },
  {
   "cell_type": "code",
   "execution_count": 204,
   "metadata": {},
   "outputs": [
    {
     "data": {
      "text/plain": [
       "[{'network': '137',\n",
       "  'params': {'limit': 200,\n",
       "   'symbol': 'GHST',\n",
       "   'strategy': {'name': 'aavegotchi',\n",
       "    'params': {'decimals': 18,\n",
       "     'tokenAddress': '0x385Eeac5cB85A38A9a07A70c73e0a3271CfB54A7',\n",
       "     'stakingAddress': '0xA02d547512Bb90002807499F05495Fe9C4C3943f',\n",
       "     'ghstUsdcAddress': '0x096c5ccb33cfc5732bcd1f3195c13dbefc4c82f4',\n",
       "     'ghstWethAddress': '0xccb9d2100037f1253e6c1682adf7dc9944498aff',\n",
       "     'ghstQuickAddress': '0x8b1fd78ad67c7da09b682c5392b65ca7caa101b9'}}}},\n",
       " {'network': '137',\n",
       "  'params': {'limit': 500,\n",
       "   'symbol': 'AGIP',\n",
       "   'strategy': {'name': 'aavegotchi-agip',\n",
       "    'params': {'tokenAddress': '0x86935f11c86623dec8a25696e1c19a8659cbf95d'}}}},\n",
       " {'network': '137',\n",
       "  'params': {'limit': 500,\n",
       "   'symbol': 'GHST',\n",
       "   'strategy': {'name': 'erc20-balance-of',\n",
       "    'params': {'address': '0x385Eeac5cB85A38A9a07A70c73e0a3271CfB54A7',\n",
       "     'decimals': 18}}}},\n",
       " {'network': '137',\n",
       "  'params': {'symbol': 'AGIP17',\n",
       "   'strategy': {'name': 'aavegotchi-agip-17', 'params': {'symbol': 'REALM'}}}}]"
      ]
     },
     "execution_count": 204,
     "metadata": {},
     "output_type": "execute_result"
    }
   ],
   "source": [
    "res['proposals'][0]['strategies']"
   ]
  },
  {
   "cell_type": "code",
   "execution_count": null,
   "metadata": {},
   "outputs": [],
   "source": []
  },
  {
   "cell_type": "markdown",
   "metadata": {},
   "source": [
    "Experiment with a set of proposals"
   ]
  },
  {
   "cell_type": "code",
   "execution_count": 68,
   "metadata": {},
   "outputs": [
    {
     "name": "stdout",
     "output_type": "stream",
     "text": [
      "<Response [200]>\n"
     ]
    }
   ],
   "source": [
    "query = \"\"\"\n",
    "query {\n",
    "  proposals (\n",
    "    where: {space: \"ens.eth\"}\n",
    "  ) {\n",
    "    id\n",
    "    author\n",
    "    created\n",
    "    title\n",
    "    state\n",
    "    choices\n",
    "    votes\n",
    "    scores\n",
    "    scores_by_strategy\n",
    "    scores_state\n",
    "    scores_total\n",
    "    scores_updated\n",
    "    strategies {\n",
    "      network\n",
    "      params\n",
    "    }\n",
    "  }\n",
    "}\n",
    "\"\"\"\n",
    "\n",
    "res = snapshot_api(query)"
   ]
  },
  {
   "cell_type": "code",
   "execution_count": 70,
   "metadata": {},
   "outputs": [
    {
     "data": {
      "text/plain": [
       "20"
      ]
     },
     "execution_count": 70,
     "metadata": {},
     "output_type": "execute_result"
    }
   ],
   "source": [
    "len(res['proposals'])"
   ]
  },
  {
   "cell_type": "code",
   "execution_count": 72,
   "metadata": {},
   "outputs": [],
   "source": [
    "df = pd.DataFrame(res['proposals'])"
   ]
  },
  {
   "cell_type": "code",
   "execution_count": 80,
   "metadata": {},
   "outputs": [
    {
     "data": {
      "text/plain": [
       "2"
      ]
     },
     "execution_count": 80,
     "metadata": {},
     "output_type": "execute_result"
    }
   ],
   "source": [
    "len(df.iloc[0,:]['strategies'])"
   ]
  },
  {
   "cell_type": "code",
   "execution_count": 81,
   "metadata": {},
   "outputs": [],
   "source": [
    "df['strategy_types'] = df['strategies'].apply(len)"
   ]
  },
  {
   "cell_type": "code",
   "execution_count": 148,
   "metadata": {},
   "outputs": [],
   "source": [
    "def strategy_tags (strategy):\n",
    "    tags = set()\n",
    "\n",
    "    # dict keys\n",
    "    for current_dict in strategy:\n",
    "        tags = tags | set(current_dict['params'].keys())\n",
    "\n",
    "    return tags"
   ]
  },
  {
   "cell_type": "code",
   "execution_count": 161,
   "metadata": {},
   "outputs": [],
   "source": [
    "def strategy_classification (strategy_tags):\n",
    "    output = []\n",
    "    if {'address','symbol','decimals'}.issubset(strategy_tags) :\n",
    "        output += ['balance-of']\n",
    "\n",
    "    if set(['strategies','symbol']).issubset(strategy_tags) :\n",
    "        output += ['delegated']\n",
    "    \n",
    "    return output"
   ]
  },
  {
   "cell_type": "code",
   "execution_count": 162,
   "metadata": {},
   "outputs": [],
   "source": [
    "df['strategy_tags'] = df['strategies'].apply(strategy_tags)\n",
    "df['strategy_classification'] = df['strategy_tags'].apply(strategy_classification)"
   ]
  },
  {
   "cell_type": "code",
   "execution_count": 163,
   "metadata": {},
   "outputs": [
    {
     "data": {
      "text/html": [
       "<div>\n",
       "<style scoped>\n",
       "    .dataframe tbody tr th:only-of-type {\n",
       "        vertical-align: middle;\n",
       "    }\n",
       "\n",
       "    .dataframe tbody tr th {\n",
       "        vertical-align: top;\n",
       "    }\n",
       "\n",
       "    .dataframe thead th {\n",
       "        text-align: right;\n",
       "    }\n",
       "</style>\n",
       "<table border=\"1\" class=\"dataframe\">\n",
       "  <thead>\n",
       "    <tr style=\"text-align: right;\">\n",
       "      <th></th>\n",
       "      <th>id</th>\n",
       "      <th>strategy_types</th>\n",
       "      <th>strategy_tags</th>\n",
       "      <th>strategy_classification</th>\n",
       "    </tr>\n",
       "  </thead>\n",
       "  <tbody>\n",
       "    <tr>\n",
       "      <th>0</th>\n",
       "      <td>0x4a1aedbd9d22295f358dc4028b5a3f0a602bb5f1089d...</td>\n",
       "      <td>2</td>\n",
       "      <td>{address, strategies, symbol, decimals}</td>\n",
       "      <td>[balance-of, delegated]</td>\n",
       "    </tr>\n",
       "    <tr>\n",
       "      <th>1</th>\n",
       "      <td>0x5c96e490f3e28d8269e8fc7e929491fb8fa5e4bd04d3...</td>\n",
       "      <td>2</td>\n",
       "      <td>{address, strategies, symbol, decimals}</td>\n",
       "      <td>[balance-of, delegated]</td>\n",
       "    </tr>\n",
       "    <tr>\n",
       "      <th>2</th>\n",
       "      <td>0x97265786d808280adc788e6744dd07afd3ff7e277652...</td>\n",
       "      <td>2</td>\n",
       "      <td>{address, strategies, symbol, decimals}</td>\n",
       "      <td>[balance-of, delegated]</td>\n",
       "    </tr>\n",
       "    <tr>\n",
       "      <th>3</th>\n",
       "      <td>0x46c7294aca8d70ae8213e8e8c6915697c7be1aab731f...</td>\n",
       "      <td>2</td>\n",
       "      <td>{address, strategies, symbol, decimals}</td>\n",
       "      <td>[balance-of, delegated]</td>\n",
       "    </tr>\n",
       "    <tr>\n",
       "      <th>4</th>\n",
       "      <td>0xa64ec8b446e509cb4b75092c4a714897790b70e2711f...</td>\n",
       "      <td>2</td>\n",
       "      <td>{address, strategies, symbol, decimals}</td>\n",
       "      <td>[balance-of, delegated]</td>\n",
       "    </tr>\n",
       "    <tr>\n",
       "      <th>5</th>\n",
       "      <td>0x3fa1a972b7d40510f5c1fb0d1c43e41960866a35db75...</td>\n",
       "      <td>2</td>\n",
       "      <td>{address, strategies, symbol, decimals}</td>\n",
       "      <td>[balance-of, delegated]</td>\n",
       "    </tr>\n",
       "    <tr>\n",
       "      <th>6</th>\n",
       "      <td>0x1b1ed675d08dd689148133c5be076e78997500d19698...</td>\n",
       "      <td>2</td>\n",
       "      <td>{address, strategies, symbol, decimals}</td>\n",
       "      <td>[balance-of, delegated]</td>\n",
       "    </tr>\n",
       "    <tr>\n",
       "      <th>7</th>\n",
       "      <td>0x056dd964a9fb8da60cfc46d82c3770b09b22212c030c...</td>\n",
       "      <td>2</td>\n",
       "      <td>{address, strategies, symbol, decimals}</td>\n",
       "      <td>[balance-of, delegated]</td>\n",
       "    </tr>\n",
       "    <tr>\n",
       "      <th>8</th>\n",
       "      <td>0x3742c2d352f92260e2c827767266a88fd214d2cd309e...</td>\n",
       "      <td>2</td>\n",
       "      <td>{address, strategies, symbol, decimals}</td>\n",
       "      <td>[balance-of, delegated]</td>\n",
       "    </tr>\n",
       "    <tr>\n",
       "      <th>9</th>\n",
       "      <td>0xe07284156fb063d5fba6b9fed50cc74fad36ea02c2ed...</td>\n",
       "      <td>2</td>\n",
       "      <td>{address, strategies, symbol, decimals}</td>\n",
       "      <td>[balance-of, delegated]</td>\n",
       "    </tr>\n",
       "    <tr>\n",
       "      <th>10</th>\n",
       "      <td>0xc7186cf8bebe47600f8d847e76f7971ea97b48bc04ed...</td>\n",
       "      <td>2</td>\n",
       "      <td>{address, strategies, symbol, decimals}</td>\n",
       "      <td>[balance-of, delegated]</td>\n",
       "    </tr>\n",
       "    <tr>\n",
       "      <th>11</th>\n",
       "      <td>0x718c496b04017fb82749b68570d12f32c839f59b9f94...</td>\n",
       "      <td>2</td>\n",
       "      <td>{address, strategies, symbol, decimals}</td>\n",
       "      <td>[balance-of, delegated]</td>\n",
       "    </tr>\n",
       "    <tr>\n",
       "      <th>12</th>\n",
       "      <td>0x104eb11d42813fadc2b408856e8fa2c10e34dbb4a87a...</td>\n",
       "      <td>2</td>\n",
       "      <td>{address, strategies, symbol, decimals}</td>\n",
       "      <td>[balance-of, delegated]</td>\n",
       "    </tr>\n",
       "    <tr>\n",
       "      <th>13</th>\n",
       "      <td>0xe040bdae812af4bd5b3b6e3f46ed1ff4701986c338b8...</td>\n",
       "      <td>2</td>\n",
       "      <td>{address, strategies, symbol, decimals}</td>\n",
       "      <td>[balance-of, delegated]</td>\n",
       "    </tr>\n",
       "    <tr>\n",
       "      <th>14</th>\n",
       "      <td>0xdf7e59e58ab0cf5ee0a591bd65369db3ee5091ae3b7c...</td>\n",
       "      <td>2</td>\n",
       "      <td>{address, strategies, symbol, decimals}</td>\n",
       "      <td>[balance-of, delegated]</td>\n",
       "    </tr>\n",
       "    <tr>\n",
       "      <th>15</th>\n",
       "      <td>0x8c05add423e7ab5900113b203326286763d402f88300...</td>\n",
       "      <td>2</td>\n",
       "      <td>{address, strategies, symbol, decimals}</td>\n",
       "      <td>[balance-of, delegated]</td>\n",
       "    </tr>\n",
       "    <tr>\n",
       "      <th>16</th>\n",
       "      <td>0x29040b3196c4d7109fdb7b55b8bfd5e85dd074d3cb22...</td>\n",
       "      <td>2</td>\n",
       "      <td>{address, strategies, symbol, decimals}</td>\n",
       "      <td>[balance-of, delegated]</td>\n",
       "    </tr>\n",
       "    <tr>\n",
       "      <th>17</th>\n",
       "      <td>0x8b68ebc34b590488000bd5a73c7fe1e66e7d405ab26e...</td>\n",
       "      <td>2</td>\n",
       "      <td>{address, strategies, symbol, decimals}</td>\n",
       "      <td>[balance-of, delegated]</td>\n",
       "    </tr>\n",
       "    <tr>\n",
       "      <th>18</th>\n",
       "      <td>0x90a5f884d59a647a5a78aad8023cf0c00d9efb8499bc...</td>\n",
       "      <td>2</td>\n",
       "      <td>{address, strategies, symbol, decimals}</td>\n",
       "      <td>[balance-of, delegated]</td>\n",
       "    </tr>\n",
       "    <tr>\n",
       "      <th>19</th>\n",
       "      <td>0xc4bc562d32e59a528dec301261e8d2b3b0c6880c2b78...</td>\n",
       "      <td>2</td>\n",
       "      <td>{address, strategies, symbol, decimals}</td>\n",
       "      <td>[balance-of, delegated]</td>\n",
       "    </tr>\n",
       "  </tbody>\n",
       "</table>\n",
       "</div>"
      ],
      "text/plain": [
       "                                                   id  strategy_types  \\\n",
       "0   0x4a1aedbd9d22295f358dc4028b5a3f0a602bb5f1089d...               2   \n",
       "1   0x5c96e490f3e28d8269e8fc7e929491fb8fa5e4bd04d3...               2   \n",
       "2   0x97265786d808280adc788e6744dd07afd3ff7e277652...               2   \n",
       "3   0x46c7294aca8d70ae8213e8e8c6915697c7be1aab731f...               2   \n",
       "4   0xa64ec8b446e509cb4b75092c4a714897790b70e2711f...               2   \n",
       "5   0x3fa1a972b7d40510f5c1fb0d1c43e41960866a35db75...               2   \n",
       "6   0x1b1ed675d08dd689148133c5be076e78997500d19698...               2   \n",
       "7   0x056dd964a9fb8da60cfc46d82c3770b09b22212c030c...               2   \n",
       "8   0x3742c2d352f92260e2c827767266a88fd214d2cd309e...               2   \n",
       "9   0xe07284156fb063d5fba6b9fed50cc74fad36ea02c2ed...               2   \n",
       "10  0xc7186cf8bebe47600f8d847e76f7971ea97b48bc04ed...               2   \n",
       "11  0x718c496b04017fb82749b68570d12f32c839f59b9f94...               2   \n",
       "12  0x104eb11d42813fadc2b408856e8fa2c10e34dbb4a87a...               2   \n",
       "13  0xe040bdae812af4bd5b3b6e3f46ed1ff4701986c338b8...               2   \n",
       "14  0xdf7e59e58ab0cf5ee0a591bd65369db3ee5091ae3b7c...               2   \n",
       "15  0x8c05add423e7ab5900113b203326286763d402f88300...               2   \n",
       "16  0x29040b3196c4d7109fdb7b55b8bfd5e85dd074d3cb22...               2   \n",
       "17  0x8b68ebc34b590488000bd5a73c7fe1e66e7d405ab26e...               2   \n",
       "18  0x90a5f884d59a647a5a78aad8023cf0c00d9efb8499bc...               2   \n",
       "19  0xc4bc562d32e59a528dec301261e8d2b3b0c6880c2b78...               2   \n",
       "\n",
       "                              strategy_tags  strategy_classification  \n",
       "0   {address, strategies, symbol, decimals}  [balance-of, delegated]  \n",
       "1   {address, strategies, symbol, decimals}  [balance-of, delegated]  \n",
       "2   {address, strategies, symbol, decimals}  [balance-of, delegated]  \n",
       "3   {address, strategies, symbol, decimals}  [balance-of, delegated]  \n",
       "4   {address, strategies, symbol, decimals}  [balance-of, delegated]  \n",
       "5   {address, strategies, symbol, decimals}  [balance-of, delegated]  \n",
       "6   {address, strategies, symbol, decimals}  [balance-of, delegated]  \n",
       "7   {address, strategies, symbol, decimals}  [balance-of, delegated]  \n",
       "8   {address, strategies, symbol, decimals}  [balance-of, delegated]  \n",
       "9   {address, strategies, symbol, decimals}  [balance-of, delegated]  \n",
       "10  {address, strategies, symbol, decimals}  [balance-of, delegated]  \n",
       "11  {address, strategies, symbol, decimals}  [balance-of, delegated]  \n",
       "12  {address, strategies, symbol, decimals}  [balance-of, delegated]  \n",
       "13  {address, strategies, symbol, decimals}  [balance-of, delegated]  \n",
       "14  {address, strategies, symbol, decimals}  [balance-of, delegated]  \n",
       "15  {address, strategies, symbol, decimals}  [balance-of, delegated]  \n",
       "16  {address, strategies, symbol, decimals}  [balance-of, delegated]  \n",
       "17  {address, strategies, symbol, decimals}  [balance-of, delegated]  \n",
       "18  {address, strategies, symbol, decimals}  [balance-of, delegated]  \n",
       "19  {address, strategies, symbol, decimals}  [balance-of, delegated]  "
      ]
     },
     "execution_count": 163,
     "metadata": {},
     "output_type": "execute_result"
    }
   ],
   "source": [
    "df[['id','strategy_types','strategy_tags','strategy_classification']]"
   ]
  },
  {
   "cell_type": "markdown",
   "metadata": {},
   "source": [
    "Operation"
   ]
  },
  {
   "cell_type": "code",
   "execution_count": 226,
   "metadata": {},
   "outputs": [
    {
     "name": "stdout",
     "output_type": "stream",
     "text": [
      "1 1000\n",
      "2 2000\n",
      "3 3000\n",
      "4 4000\n",
      "5 5000\n",
      "6 6000\n",
      "7 7000\n",
      "8 8000\n",
      "9 9000\n",
      "10 10000\n",
      "Saved.\n",
      "11 11000\n",
      "12 12000\n",
      "13 13000\n",
      "14 14000\n",
      "15 15000\n",
      "16 16000\n",
      "17 17000\n",
      "18 18000\n",
      "19 19000\n",
      "20 20000\n",
      "Saved.\n",
      "21 21000\n",
      "22 22000\n",
      "23 23000\n",
      "24 24000\n",
      "25 25000\n",
      "26 26000\n",
      "27 27000\n",
      "28 28000\n",
      "29 29000\n",
      "30 30000\n",
      "Saved.\n",
      "31 31000\n",
      "32 32000\n",
      "33 33000\n",
      "34 34000\n",
      "35 35000\n",
      "36 36000\n",
      "37 37000\n",
      "38 38000\n",
      "39 39000\n",
      "40 40000\n",
      "Saved.\n",
      "41 41000\n",
      "42 42000\n",
      "43 43000\n",
      "44 44000\n",
      "45 45000\n",
      "46 46000\n",
      "47 47000\n",
      "48 48000\n",
      "49 49000\n",
      "50 50000\n",
      "Saved.\n",
      "51 51000\n",
      "52 52000\n",
      "53 53000\n",
      "54 54000\n",
      "55 55000\n",
      "56 56000\n",
      "57 57000\n",
      "58 58000\n",
      "59 59000\n",
      "60 60000\n",
      "Saved.\n",
      "61 61000\n",
      "62 62000\n",
      "63 63000\n",
      "64 64000\n",
      "65 65000\n",
      "66 66000\n",
      "67 67000\n",
      "68 68000\n",
      "69 69000\n",
      "70 69801\n",
      "Saved.\n",
      "**I am done fetching!**\n",
      "Saved.\n"
     ]
    }
   ],
   "source": [
    "q = get_query(\"snapshot_proposals2.gql\", do_gql=False)\n",
    "\n",
    "proposal = await gql_all(query = q, \n",
    "                        field = 'proposals',\n",
    "                        #limit = 1,\n",
    "                        save='proposals_20221007.json',\n",
    "                        save_interval=10\n",
    ")"
   ]
  },
  {
   "cell_type": "code",
   "execution_count": 227,
   "metadata": {},
   "outputs": [
    {
     "name": "stdout",
     "output_type": "stream",
     "text": [
      "<class 'pandas.core.frame.DataFrame'>\n",
      "RangeIndex: 69801 entries, 0 to 69800\n",
      "Data columns (total 23 columns):\n",
      " #   Column              Non-Null Count  Dtype  \n",
      "---  ------              --------------  -----  \n",
      " 0   id                  69801 non-null  object \n",
      " 1   created             69801 non-null  int64  \n",
      " 2   space               69801 non-null  object \n",
      " 3   network             69801 non-null  object \n",
      " 4   symbol              69801 non-null  object \n",
      " 5   type                69801 non-null  object \n",
      " 6   strategies          69801 non-null  object \n",
      " 7   title               69801 non-null  object \n",
      " 8   body                69801 non-null  object \n",
      " 9   choices             69801 non-null  object \n",
      " 10  start               69801 non-null  int64  \n",
      " 11  end                 69801 non-null  int64  \n",
      " 12  quorum              69801 non-null  float64\n",
      " 13  snapshot            69801 non-null  object \n",
      " 14  state               69801 non-null  object \n",
      " 15  link                69801 non-null  object \n",
      " 16  app                 69801 non-null  object \n",
      " 17  scores              69801 non-null  object \n",
      " 18  scores_by_strategy  69801 non-null  object \n",
      " 19  scores_state        69801 non-null  object \n",
      " 20  scores_total        69801 non-null  object \n",
      " 21  scores_updated      69801 non-null  int64  \n",
      " 22  votes               69801 non-null  int64  \n",
      "dtypes: float64(1), int64(5), object(17)\n",
      "memory usage: 12.2+ MB\n"
     ]
    }
   ],
   "source": [
    "with open(\"../4_power/data/proposals_20221007.json\") as file:\n",
    "    proposals = json.load(file)\n",
    "\n",
    "proposals = pd.DataFrame(proposals)\n",
    "proposals.info()"
   ]
  },
  {
   "cell_type": "code",
   "execution_count": 229,
   "metadata": {},
   "outputs": [
    {
     "data": {
      "text/plain": [
       "count     69801.000000\n",
       "mean         93.069727\n",
       "std        1222.786352\n",
       "min           0.000000\n",
       "25%           1.000000\n",
       "50%           7.000000\n",
       "75%          33.000000\n",
       "max      220917.000000\n",
       "Name: votes, dtype: float64"
      ]
     },
     "execution_count": 229,
     "metadata": {},
     "output_type": "execute_result"
    }
   ],
   "source": [
    "proposals.votes.describe()"
   ]
  },
  {
   "cell_type": "code",
   "execution_count": 231,
   "metadata": {},
   "outputs": [],
   "source": [
    "proposals = proposals[proposals.votes>0]"
   ]
  },
  {
   "cell_type": "code",
   "execution_count": 232,
   "metadata": {},
   "outputs": [
    {
     "data": {
      "text/plain": [
       "count     56993.000000\n",
       "mean        113.985226\n",
       "std        1352.347972\n",
       "min           1.000000\n",
       "25%           3.000000\n",
       "50%          12.000000\n",
       "75%          45.000000\n",
       "max      220917.000000\n",
       "Name: votes, dtype: float64"
      ]
     },
     "execution_count": 232,
     "metadata": {},
     "output_type": "execute_result"
    }
   ],
   "source": [
    "proposals.votes.describe()"
   ]
  },
  {
   "cell_type": "code",
   "execution_count": 235,
   "metadata": {},
   "outputs": [
    {
     "data": {
      "text/html": [
       "<div>\n",
       "<style scoped>\n",
       "    .dataframe tbody tr th:only-of-type {\n",
       "        vertical-align: middle;\n",
       "    }\n",
       "\n",
       "    .dataframe tbody tr th {\n",
       "        vertical-align: top;\n",
       "    }\n",
       "\n",
       "    .dataframe thead th {\n",
       "        text-align: right;\n",
       "    }\n",
       "</style>\n",
       "<table border=\"1\" class=\"dataframe\">\n",
       "  <thead>\n",
       "    <tr style=\"text-align: right;\">\n",
       "      <th></th>\n",
       "      <th>id</th>\n",
       "      <th>strategies</th>\n",
       "    </tr>\n",
       "  </thead>\n",
       "  <tbody>\n",
       "    <tr>\n",
       "      <th>0</th>\n",
       "      <td>QmSXpyHBrkjzjmGpdYxKvYoRAMvdJNp7rrnyvJqTdtpayZ</td>\n",
       "      <td>[{'params': {'symbol': 'BAL', 'address': '0xba...</td>\n",
       "    </tr>\n",
       "    <tr>\n",
       "      <th>1</th>\n",
       "      <td>QmXYVj4GBu16GfuTLouxQSvbB8w3G2EAvYq9TAxX38ruKb</td>\n",
       "      <td>[{'params': {'symbol': 'BAL', 'address': '0xba...</td>\n",
       "    </tr>\n",
       "    <tr>\n",
       "      <th>2</th>\n",
       "      <td>QmboDWvsXYXPZb44arPVoMa3LHuv74YsGZ3cSoG6uj4oZe</td>\n",
       "      <td>[{'params': {'symbol': 'BAL', 'address': '0xba...</td>\n",
       "    </tr>\n",
       "    <tr>\n",
       "      <th>3</th>\n",
       "      <td>QmeWmvdFCTq5tnFHqgFmAVJDCccTYjg1zWb9cfUByg7zbz</td>\n",
       "      <td>[{'params': {'symbol': 'BAL', 'address': '0xba...</td>\n",
       "    </tr>\n",
       "    <tr>\n",
       "      <th>4</th>\n",
       "      <td>QmUadcUgd3jAhJbofgrnKNMfeuGFvMmybhCkttW4gGfYYJ</td>\n",
       "      <td>[{'params': {'symbol': 'BAL', 'address': '0xba...</td>\n",
       "    </tr>\n",
       "  </tbody>\n",
       "</table>\n",
       "</div>"
      ],
      "text/plain": [
       "                                               id  \\\n",
       "0  QmSXpyHBrkjzjmGpdYxKvYoRAMvdJNp7rrnyvJqTdtpayZ   \n",
       "1  QmXYVj4GBu16GfuTLouxQSvbB8w3G2EAvYq9TAxX38ruKb   \n",
       "2  QmboDWvsXYXPZb44arPVoMa3LHuv74YsGZ3cSoG6uj4oZe   \n",
       "3  QmeWmvdFCTq5tnFHqgFmAVJDCccTYjg1zWb9cfUByg7zbz   \n",
       "4  QmUadcUgd3jAhJbofgrnKNMfeuGFvMmybhCkttW4gGfYYJ   \n",
       "\n",
       "                                          strategies  \n",
       "0  [{'params': {'symbol': 'BAL', 'address': '0xba...  \n",
       "1  [{'params': {'symbol': 'BAL', 'address': '0xba...  \n",
       "2  [{'params': {'symbol': 'BAL', 'address': '0xba...  \n",
       "3  [{'params': {'symbol': 'BAL', 'address': '0xba...  \n",
       "4  [{'params': {'symbol': 'BAL', 'address': '0xba...  "
      ]
     },
     "execution_count": 235,
     "metadata": {},
     "output_type": "execute_result"
    }
   ],
   "source": [
    "proposals[['id','strategies']].head()"
   ]
  },
  {
   "cell_type": "code",
   "execution_count": 236,
   "metadata": {},
   "outputs": [],
   "source": [
    "proposals['strategy_types'] = proposals['strategies'].apply(len)\n",
    "proposals['strategy_tags'] = proposals['strategies'].apply(strategy_tags)\n",
    "#proposals['strategy_classification'] = proposals['strategy_tags'].apply(strategy_classification)"
   ]
  },
  {
   "cell_type": "code",
   "execution_count": 239,
   "metadata": {},
   "outputs": [
    {
     "data": {
      "text/plain": [
       "{address, decimals, symbol}                                          26840\n",
       "{address, symbol}                                                     4940\n",
       "{}                                                                    2879\n",
       "{symbol}                                                              2347\n",
       "{address, decimals, methodABI, symbol}                                2052\n",
       "{address, chefAddresses}                                              1987\n",
       "{graphs, strategies, symbol, multiplier, decimals, address, name}     1530\n",
       "{address, strategies, symbol, decimals}                               1251\n",
       "{address, decimals, network, symbol}                                   839\n",
       "{address, tokenId, decimals, symbol}                                   684\n",
       "{addresses, symbol}                                                    674\n",
       "{address, decimals, minBalance, symbol}                                584\n",
       "{address, args, symbol, decimals, methodABI}                           453\n",
       "{address, strategies, symbol, decimals, methodABI}                     415\n",
       "{strategies, symbol}                                                   389\n",
       "{startBlocks, graphs, strategies, symbol}                              361\n",
       "{graphs, strategies, symbol}                                           335\n",
       "{address, strategies, symbol, decimals, delegationSpace}               286\n",
       "{address, strategies, args, symbol, decimals, methodABI}               254\n",
       "{limit, strategy, symbol}                                              235\n",
       "Name: strategy_tags, dtype: int64"
      ]
     },
     "execution_count": 239,
     "metadata": {},
     "output_type": "execute_result"
    }
   ],
   "source": [
    "proposals.strategy_tags.value_counts().head(20)"
   ]
  },
  {
   "cell_type": "code",
   "execution_count": 263,
   "metadata": {},
   "outputs": [
    {
     "data": {
      "text/plain": [
       "1    42239\n",
       "2     8093\n",
       "3     2242\n",
       "6     1745\n",
       "4     1407\n",
       "7      601\n",
       "5      554\n",
       "8      112\n",
       "Name: strategy_types, dtype: int64"
      ]
     },
     "execution_count": 263,
     "metadata": {},
     "output_type": "execute_result"
    }
   ],
   "source": [
    "proposals.strategy_types.value_counts().head(20)"
   ]
  },
  {
   "cell_type": "code",
   "execution_count": 278,
   "metadata": {},
   "outputs": [],
   "source": [
    "proposals['strategy_tags_str'] = proposals['strategy_tags'].apply(str)"
   ]
  },
  {
   "cell_type": "code",
   "execution_count": 279,
   "metadata": {},
   "outputs": [
    {
     "data": {
      "text/html": [
       "<div>\n",
       "<style scoped>\n",
       "    .dataframe tbody tr th:only-of-type {\n",
       "        vertical-align: middle;\n",
       "    }\n",
       "\n",
       "    .dataframe tbody tr th {\n",
       "        vertical-align: top;\n",
       "    }\n",
       "\n",
       "    .dataframe thead th {\n",
       "        text-align: right;\n",
       "    }\n",
       "</style>\n",
       "<table border=\"1\" class=\"dataframe\">\n",
       "  <thead>\n",
       "    <tr style=\"text-align: right;\">\n",
       "      <th></th>\n",
       "      <th>strategy_types</th>\n",
       "      <th>strategy_tags_str</th>\n",
       "      <th>id</th>\n",
       "    </tr>\n",
       "  </thead>\n",
       "  <tbody>\n",
       "    <tr>\n",
       "      <th>33</th>\n",
       "      <td>1</td>\n",
       "      <td>{'address', 'decimals', 'symbol'}</td>\n",
       "      <td>22683</td>\n",
       "    </tr>\n",
       "    <tr>\n",
       "      <th>62</th>\n",
       "      <td>1</td>\n",
       "      <td>{'address', 'symbol'}</td>\n",
       "      <td>4556</td>\n",
       "    </tr>\n",
       "    <tr>\n",
       "      <th>0</th>\n",
       "      <td>1</td>\n",
       "      <td>set()</td>\n",
       "      <td>2879</td>\n",
       "    </tr>\n",
       "    <tr>\n",
       "      <th>240</th>\n",
       "      <td>2</td>\n",
       "      <td>{'address', 'symbol', 'decimals'}</td>\n",
       "      <td>2211</td>\n",
       "    </tr>\n",
       "    <tr>\n",
       "      <th>150</th>\n",
       "      <td>1</td>\n",
       "      <td>{'symbol'}</td>\n",
       "      <td>2153</td>\n",
       "    </tr>\n",
       "    <tr>\n",
       "      <th>16</th>\n",
       "      <td>1</td>\n",
       "      <td>{'address', 'chefAddresses'}</td>\n",
       "      <td>1987</td>\n",
       "    </tr>\n",
       "    <tr>\n",
       "      <th>27</th>\n",
       "      <td>1</td>\n",
       "      <td>{'address', 'decimals', 'methodABI', 'symbol'}</td>\n",
       "      <td>1401</td>\n",
       "    </tr>\n",
       "    <tr>\n",
       "      <th>640</th>\n",
       "      <td>6</td>\n",
       "      <td>{'graphs', 'strategies', 'symbol', 'multiplier...</td>\n",
       "      <td>1397</td>\n",
       "    </tr>\n",
       "    <tr>\n",
       "      <th>218</th>\n",
       "      <td>2</td>\n",
       "      <td>{'address', 'strategies', 'symbol', 'decimals'}</td>\n",
       "      <td>917</td>\n",
       "    </tr>\n",
       "    <tr>\n",
       "      <th>29</th>\n",
       "      <td>1</td>\n",
       "      <td>{'address', 'decimals', 'network', 'symbol'}</td>\n",
       "      <td>778</td>\n",
       "    </tr>\n",
       "  </tbody>\n",
       "</table>\n",
       "</div>"
      ],
      "text/plain": [
       "     strategy_types                                  strategy_tags_str     id\n",
       "33                1                  {'address', 'decimals', 'symbol'}  22683\n",
       "62                1                              {'address', 'symbol'}   4556\n",
       "0                 1                                              set()   2879\n",
       "240               2                  {'address', 'symbol', 'decimals'}   2211\n",
       "150               1                                         {'symbol'}   2153\n",
       "16                1                       {'address', 'chefAddresses'}   1987\n",
       "27                1     {'address', 'decimals', 'methodABI', 'symbol'}   1401\n",
       "640               6  {'graphs', 'strategies', 'symbol', 'multiplier...   1397\n",
       "218               2    {'address', 'strategies', 'symbol', 'decimals'}    917\n",
       "29                1       {'address', 'decimals', 'network', 'symbol'}    778"
      ]
     },
     "execution_count": 279,
     "metadata": {},
     "output_type": "execute_result"
    }
   ],
   "source": [
    "proposals[['strategy_types','strategy_tags_str','id']].groupby(['strategy_types','strategy_tags_str']).count().reset_index().sort_values(by='id',ascending=False).head(10)"
   ]
  },
  {
   "cell_type": "code",
   "execution_count": 253,
   "metadata": {},
   "outputs": [
    {
     "data": {
      "text/html": [
       "<div>\n",
       "<style scoped>\n",
       "    .dataframe tbody tr th:only-of-type {\n",
       "        vertical-align: middle;\n",
       "    }\n",
       "\n",
       "    .dataframe tbody tr th {\n",
       "        vertical-align: top;\n",
       "    }\n",
       "\n",
       "    .dataframe thead th {\n",
       "        text-align: right;\n",
       "    }\n",
       "</style>\n",
       "<table border=\"1\" class=\"dataframe\">\n",
       "  <thead>\n",
       "    <tr style=\"text-align: right;\">\n",
       "      <th></th>\n",
       "      <th>id</th>\n",
       "      <th>space</th>\n",
       "      <th>votes</th>\n",
       "      <th>strategies</th>\n",
       "    </tr>\n",
       "  </thead>\n",
       "  <tbody>\n",
       "    <tr>\n",
       "      <th>41999</th>\n",
       "      <td>0x2b038886a35bdfa6abd4fafccde2d6ff9d82e264688f...</td>\n",
       "      <td>{'id': 'happyguy.eth'}</td>\n",
       "      <td>1</td>\n",
       "      <td>[{'params': {}}]</td>\n",
       "    </tr>\n",
       "    <tr>\n",
       "      <th>42002</th>\n",
       "      <td>0x2997f45864b760ee662369024e324b710b207d3d2b0e...</td>\n",
       "      <td>{'id': 'sherlin.eth'}</td>\n",
       "      <td>2</td>\n",
       "      <td>[{'params': {}}]</td>\n",
       "    </tr>\n",
       "    <tr>\n",
       "      <th>42139</th>\n",
       "      <td>0x8279fbf102c6d9b022a7a608a43794d54eea87ef4e40...</td>\n",
       "      <td>{'id': 'jray.eth'}</td>\n",
       "      <td>1</td>\n",
       "      <td>[{'params': {}}]</td>\n",
       "    </tr>\n",
       "    <tr>\n",
       "      <th>42140</th>\n",
       "      <td>0x8c07b047a58c1d4b30743085f018e8965d859bb6fcc7...</td>\n",
       "      <td>{'id': 'jray.eth'}</td>\n",
       "      <td>1</td>\n",
       "      <td>[{'params': {}}]</td>\n",
       "    </tr>\n",
       "    <tr>\n",
       "      <th>42185</th>\n",
       "      <td>0x9995d85eb2ec5e4c3b52fd6349eaffa9a8187684a01c...</td>\n",
       "      <td>{'id': 'petroleumdefi.eth'}</td>\n",
       "      <td>30</td>\n",
       "      <td>[{'params': {}}]</td>\n",
       "    </tr>\n",
       "    <tr>\n",
       "      <th>...</th>\n",
       "      <td>...</td>\n",
       "      <td>...</td>\n",
       "      <td>...</td>\n",
       "      <td>...</td>\n",
       "    </tr>\n",
       "    <tr>\n",
       "      <th>69304</th>\n",
       "      <td>bafkreidghfdm3u3biqjroqedk2iag5wybhpxlvicgupj2...</td>\n",
       "      <td>{'id': 'aggris88.eth'}</td>\n",
       "      <td>1</td>\n",
       "      <td>[{'params': {}}]</td>\n",
       "    </tr>\n",
       "    <tr>\n",
       "      <th>69305</th>\n",
       "      <td>bafkreih2tgrmd2f47ogoy5bxjzfca63ur5kdhpmchj6x2...</td>\n",
       "      <td>{'id': 'aggris88.eth'}</td>\n",
       "      <td>4</td>\n",
       "      <td>[{'params': {}}]</td>\n",
       "    </tr>\n",
       "    <tr>\n",
       "      <th>69477</th>\n",
       "      <td>0x572b08f72485a8490ae9d85a793ee6c88ca34b7f567b...</td>\n",
       "      <td>{'id': '0xflowers.eth'}</td>\n",
       "      <td>319</td>\n",
       "      <td>[{'params': {}}]</td>\n",
       "    </tr>\n",
       "    <tr>\n",
       "      <th>69521</th>\n",
       "      <td>0x0e0b2654fd453c2ac5827beabdbc5d877b6564df7c30...</td>\n",
       "      <td>{'id': 'jigglyjams.eth'}</td>\n",
       "      <td>1</td>\n",
       "      <td>[{'params': {}}]</td>\n",
       "    </tr>\n",
       "    <tr>\n",
       "      <th>69556</th>\n",
       "      <td>0xe928e3fe30b2289442f0a3535c405a0589b4bbb5bba1...</td>\n",
       "      <td>{'id': '314dao.eth'}</td>\n",
       "      <td>1</td>\n",
       "      <td>[{'params': {}}]</td>\n",
       "    </tr>\n",
       "  </tbody>\n",
       "</table>\n",
       "<p>2879 rows × 4 columns</p>\n",
       "</div>"
      ],
      "text/plain": [
       "                                                      id  \\\n",
       "41999  0x2b038886a35bdfa6abd4fafccde2d6ff9d82e264688f...   \n",
       "42002  0x2997f45864b760ee662369024e324b710b207d3d2b0e...   \n",
       "42139  0x8279fbf102c6d9b022a7a608a43794d54eea87ef4e40...   \n",
       "42140  0x8c07b047a58c1d4b30743085f018e8965d859bb6fcc7...   \n",
       "42185  0x9995d85eb2ec5e4c3b52fd6349eaffa9a8187684a01c...   \n",
       "...                                                  ...   \n",
       "69304  bafkreidghfdm3u3biqjroqedk2iag5wybhpxlvicgupj2...   \n",
       "69305  bafkreih2tgrmd2f47ogoy5bxjzfca63ur5kdhpmchj6x2...   \n",
       "69477  0x572b08f72485a8490ae9d85a793ee6c88ca34b7f567b...   \n",
       "69521  0x0e0b2654fd453c2ac5827beabdbc5d877b6564df7c30...   \n",
       "69556  0xe928e3fe30b2289442f0a3535c405a0589b4bbb5bba1...   \n",
       "\n",
       "                             space  votes        strategies  \n",
       "41999       {'id': 'happyguy.eth'}      1  [{'params': {}}]  \n",
       "42002        {'id': 'sherlin.eth'}      2  [{'params': {}}]  \n",
       "42139           {'id': 'jray.eth'}      1  [{'params': {}}]  \n",
       "42140           {'id': 'jray.eth'}      1  [{'params': {}}]  \n",
       "42185  {'id': 'petroleumdefi.eth'}     30  [{'params': {}}]  \n",
       "...                            ...    ...               ...  \n",
       "69304       {'id': 'aggris88.eth'}      1  [{'params': {}}]  \n",
       "69305       {'id': 'aggris88.eth'}      4  [{'params': {}}]  \n",
       "69477      {'id': '0xflowers.eth'}    319  [{'params': {}}]  \n",
       "69521     {'id': 'jigglyjams.eth'}      1  [{'params': {}}]  \n",
       "69556         {'id': '314dao.eth'}      1  [{'params': {}}]  \n",
       "\n",
       "[2879 rows x 4 columns]"
      ]
     },
     "execution_count": 253,
     "metadata": {},
     "output_type": "execute_result"
    }
   ],
   "source": [
    "proposals.loc[proposals.strategy_tags == set(),('id','space','votes','strategies')]"
   ]
  },
  {
   "cell_type": "code",
   "execution_count": 259,
   "metadata": {},
   "outputs": [
    {
     "data": {
      "text/plain": [
       "array(['0x572b08f72485a8490ae9d85a793ee6c88ca34b7f567b9a23e1fff5b0933f292f'],\n",
       "      dtype=object)"
      ]
     },
     "execution_count": 259,
     "metadata": {},
     "output_type": "execute_result"
    }
   ],
   "source": [
    "proposals.loc[proposals.index==69477,'id'].values"
   ]
  },
  {
   "cell_type": "code",
   "execution_count": 260,
   "metadata": {},
   "outputs": [
    {
     "name": "stdout",
     "output_type": "stream",
     "text": [
      "<Response [200]>\n"
     ]
    }
   ],
   "source": [
    "query = \"\"\"\n",
    "query {\n",
    "  proposals (\n",
    "    where: {id: \"0x572b08f72485a8490ae9d85a793ee6c88ca34b7f567b9a23e1fff5b0933f292f\"}\n",
    "  ) {\n",
    "    id\n",
    "    author\n",
    "    created\n",
    "    title\n",
    "    state\n",
    "    choices\n",
    "    votes\n",
    "    scores\n",
    "    scores_by_strategy\n",
    "    scores_state\n",
    "    scores_total\n",
    "    scores_updated\n",
    "    strategies {\n",
    "      network\n",
    "      params\n",
    "    }\n",
    "  }\n",
    "}\n",
    "\"\"\"\n",
    "\n",
    "res = snapshot_api(query)"
   ]
  },
  {
   "cell_type": "code",
   "execution_count": 262,
   "metadata": {},
   "outputs": [
    {
     "data": {
      "text/plain": [
       "[{'id': '0x572b08f72485a8490ae9d85a793ee6c88ca34b7f567b9a23e1fff5b0933f292f',\n",
       "  'author': '0x288db71982541c18765dC6b018BD264649f04340',\n",
       "  'created': 1664901191,\n",
       "  'title': 'Wen airdrop sir?',\n",
       "  'state': 'active',\n",
       "  'choices': ['why not', 'not interesting'],\n",
       "  'votes': 329,\n",
       "  'scores': [298, 31],\n",
       "  'scores_by_strategy': [[298], [31]],\n",
       "  'scores_state': 'pending',\n",
       "  'scores_total': 329,\n",
       "  'scores_updated': 1665147683,\n",
       "  'strategies': [{'network': '42161', 'params': {}}]}]"
      ]
     },
     "execution_count": 262,
     "metadata": {},
     "output_type": "execute_result"
    }
   ],
   "source": [
    "res['proposals']"
   ]
  },
  {
   "cell_type": "code",
   "execution_count": null,
   "metadata": {},
   "outputs": [],
   "source": []
  }
 ],
 "metadata": {
  "kernelspec": {
   "display_name": "Python 3.10.4 ('IS808')",
   "language": "python",
   "name": "python3"
  },
  "language_info": {
   "codemirror_mode": {
    "name": "ipython",
    "version": 3
   },
   "file_extension": ".py",
   "mimetype": "text/x-python",
   "name": "python",
   "nbconvert_exporter": "python",
   "pygments_lexer": "ipython3",
   "version": "3.10.4"
  },
  "orig_nbformat": 4,
  "vscode": {
   "interpreter": {
    "hash": "8cc4887c50b7ebbdbba5641e0f4082b79a2b586903323a46961ab14ae90948e5"
   }
  }
 },
 "nbformat": 4,
 "nbformat_minor": 2
}
