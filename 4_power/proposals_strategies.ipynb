{
 "cells": [
  {
   "cell_type": "code",
   "execution_count": 1,
   "metadata": {},
   "outputs": [],
   "source": [
    "import requests\n",
    "import pandas as pd\n",
    "import numpy as np\n",
    "import matplotlib.pyplot as plt\n",
    "\n",
    "import json\n",
    "import time\n",
    "import os\n",
    "import random\n",
    "import math"
   ]
  },
  {
   "cell_type": "code",
   "execution_count": 2,
   "metadata": {},
   "outputs": [],
   "source": [
    "with open(\"../4_power/data/proposals_20221007.json\") as file:\n",
    "    df = json.load(file)\n"
   ]
  },
  {
   "cell_type": "code",
   "execution_count": 3,
   "metadata": {},
   "outputs": [],
   "source": [
    "# for i in range(0,int(np.round(len(snapshot)/8000))):\n",
    "#     path = \"../4_power/data/proposals_20221007_\" + str(i) + \".json\"\n",
    "#     i = i * 8000\n",
    "#     df = pd.DataFrame(snapshot[i:i+8000])\n",
    "    \n",
    "#     df.to_json(path)'"
   ]
  },
  {
   "cell_type": "code",
   "execution_count": 14,
   "metadata": {},
   "outputs": [],
   "source": [
    "def strategy_tags (strategy):\n",
    "    tags = set()\n",
    "\n",
    "    # dict keys\n",
    "    for current_dict in strategy:\n",
    "        if current_dict['params'] != None:\n",
    "            tags = tags | set(current_dict['params'].keys())\n",
    "\n",
    "    return tags"
   ]
  },
  {
   "cell_type": "code",
   "execution_count": 5,
   "metadata": {},
   "outputs": [],
   "source": [
    "df = pd.DataFrame(df)"
   ]
  },
  {
   "cell_type": "code",
   "execution_count": 6,
   "metadata": {},
   "outputs": [
    {
     "name": "stdout",
     "output_type": "stream",
     "text": [
      "<class 'pandas.core.frame.DataFrame'>\n",
      "RangeIndex: 69801 entries, 0 to 69800\n",
      "Data columns (total 23 columns):\n",
      " #   Column              Non-Null Count  Dtype  \n",
      "---  ------              --------------  -----  \n",
      " 0   id                  69801 non-null  object \n",
      " 1   created             69801 non-null  int64  \n",
      " 2   space               69801 non-null  object \n",
      " 3   network             69801 non-null  object \n",
      " 4   symbol              69801 non-null  object \n",
      " 5   type                69801 non-null  object \n",
      " 6   strategies          69801 non-null  object \n",
      " 7   title               69801 non-null  object \n",
      " 8   body                69801 non-null  object \n",
      " 9   choices             69801 non-null  object \n",
      " 10  start               69801 non-null  int64  \n",
      " 11  end                 69801 non-null  int64  \n",
      " 12  quorum              69801 non-null  float64\n",
      " 13  snapshot            69801 non-null  object \n",
      " 14  state               69801 non-null  object \n",
      " 15  link                69801 non-null  object \n",
      " 16  app                 69801 non-null  object \n",
      " 17  scores              69801 non-null  object \n",
      " 18  scores_by_strategy  69801 non-null  object \n",
      " 19  scores_state        69801 non-null  object \n",
      " 20  scores_total        69801 non-null  object \n",
      " 21  scores_updated      69801 non-null  int64  \n",
      " 22  votes               69801 non-null  int64  \n",
      "dtypes: float64(1), int64(5), object(17)\n",
      "memory usage: 12.2+ MB\n"
     ]
    }
   ],
   "source": [
    "df.info()"
   ]
  },
  {
   "cell_type": "markdown",
   "metadata": {},
   "source": [
    "One example"
   ]
  },
  {
   "cell_type": "code",
   "execution_count": 8,
   "metadata": {},
   "outputs": [
    {
     "data": {
      "text/plain": [
       "[{'params': {'symbol': 'TCR',\n",
       "   'address': '0xa84918f3280d488eb3369cb713ec53ce386b6cba',\n",
       "   'decimals': 18,\n",
       "   'methodABI': {'name': 'getStaked',\n",
       "    'type': 'function',\n",
       "    'inputs': [{'name': 'account',\n",
       "      'type': 'address',\n",
       "      'internalType': 'address'}],\n",
       "    'outputs': [{'name': '', 'type': 'uint96', 'internalType': 'uint96'}],\n",
       "    'constant': True,\n",
       "    'stateMutability': 'view'}}}]"
      ]
     },
     "execution_count": 8,
     "metadata": {},
     "output_type": "execute_result"
    }
   ],
   "source": [
    "df.iloc[12345,:]['strategies']"
   ]
  },
  {
   "cell_type": "code",
   "execution_count": 26,
   "metadata": {},
   "outputs": [
    {
     "data": {
      "text/plain": [
       "(1, {'address', 'decimals', 'methodABI', 'symbol'})"
      ]
     },
     "execution_count": 26,
     "metadata": {},
     "output_type": "execute_result"
    }
   ],
   "source": [
    "len(df.iloc[12345,:]['strategies']), strategy_tags(df.iloc[12345,:]['strategies'])"
   ]
  },
  {
   "cell_type": "markdown",
   "metadata": {},
   "source": [
    "Another example"
   ]
  },
  {
   "cell_type": "code",
   "execution_count": 24,
   "metadata": {},
   "outputs": [
    {
     "data": {
      "text/plain": [
       "[{'params': {'symbol': 'aAAVE',\n",
       "   'address': '0xffc97d72e13e01096502cb8eb52dee56f74dad7b',\n",
       "   'decimals': 18}},\n",
       " {'params': {'graphs': {'137': 'https://api.thegraph.com/subgraphs/name/sameepsi/maticblocks'},\n",
       "   'symbol': 'Matic AAVE+amAAVE',\n",
       "   'strategies': [{'name': 'erc20-balance-of',\n",
       "     'params': {'symbol': 'AAVE',\n",
       "      'address': '0xD6DF932A45C0f255f85145f286eA0b292B21C90B',\n",
       "      'decimals': 18},\n",
       "     'network': '137'},\n",
       "    {'name': 'erc20-balance-of',\n",
       "     'params': {'symbol': 'amAAVE',\n",
       "      'address': '0x1d2a0E5EC8E5bBDCA5CB219e649B565d8e5c3360',\n",
       "      'decimals': 18},\n",
       "     'network': 137}]}}]"
      ]
     },
     "execution_count": 24,
     "metadata": {},
     "output_type": "execute_result"
    }
   ],
   "source": [
    "df.iloc[22222,:]['strategies']"
   ]
  },
  {
   "cell_type": "code",
   "execution_count": 27,
   "metadata": {},
   "outputs": [
    {
     "data": {
      "text/plain": [
       "(2, {'address', 'decimals', 'graphs', 'strategies', 'symbol'})"
      ]
     },
     "execution_count": 27,
     "metadata": {},
     "output_type": "execute_result"
    }
   ],
   "source": [
    "len(df.iloc[22222,:]['strategies']), strategy_tags(df.iloc[22222,:]['strategies'])"
   ]
  },
  {
   "cell_type": "markdown",
   "metadata": {},
   "source": [
    "Another example\n",
    "\n",
    "BTW, a weird token:\n",
    "https://etherscan.io/token/0xc300d17C49Fbf1E898C5aC66c05A5421c3997f2d"
   ]
  },
  {
   "cell_type": "code",
   "execution_count": 11,
   "metadata": {},
   "outputs": [
    {
     "data": {
      "text/plain": [
       "[{'params': {'symbol': 'Oong',\n",
       "   'address': '0xc300d17C49Fbf1E898C5aC66c05A5421c3997f2d',\n",
       "   'decimals': 18}}]"
      ]
     },
     "execution_count": 11,
     "metadata": {},
     "output_type": "execute_result"
    }
   ],
   "source": [
    "df.iloc[54321,:]['strategies']"
   ]
  },
  {
   "cell_type": "code",
   "execution_count": 28,
   "metadata": {},
   "outputs": [
    {
     "data": {
      "text/plain": [
       "(1, {'address', 'decimals', 'symbol'})"
      ]
     },
     "execution_count": 28,
     "metadata": {},
     "output_type": "execute_result"
    }
   ],
   "source": [
    "len(df.iloc[54321,:]['strategies']), strategy_tags(df.iloc[54321,:]['strategies'])"
   ]
  },
  {
   "cell_type": "markdown",
   "metadata": {},
   "source": [
    "An idea how many will be left if we conditinon on the 'erc20-balance-of' strategy"
   ]
  },
  {
   "cell_type": "code",
   "execution_count": 34,
   "metadata": {},
   "outputs": [],
   "source": [
    "df['strategy_count'] = df['strategies'].apply(len)\n",
    "df['strategy_tags'] = df['strategies'].apply(strategy_tags)\n",
    "df['strategy_tags_str'] = df['strategy_tags'].apply(str)"
   ]
  },
  {
   "cell_type": "code",
   "execution_count": 35,
   "metadata": {},
   "outputs": [
    {
     "data": {
      "text/html": [
       "<div>\n",
       "<style scoped>\n",
       "    .dataframe tbody tr th:only-of-type {\n",
       "        vertical-align: middle;\n",
       "    }\n",
       "\n",
       "    .dataframe tbody tr th {\n",
       "        vertical-align: top;\n",
       "    }\n",
       "\n",
       "    .dataframe thead th {\n",
       "        text-align: right;\n",
       "    }\n",
       "</style>\n",
       "<table border=\"1\" class=\"dataframe\">\n",
       "  <thead>\n",
       "    <tr style=\"text-align: right;\">\n",
       "      <th></th>\n",
       "      <th>strategy_count</th>\n",
       "      <th>strategy_tags_str</th>\n",
       "      <th>id</th>\n",
       "    </tr>\n",
       "  </thead>\n",
       "  <tbody>\n",
       "    <tr>\n",
       "      <th>51</th>\n",
       "      <td>1</td>\n",
       "      <td>{'symbol', 'address', 'decimals'}</td>\n",
       "      <td>28820</td>\n",
       "    </tr>\n",
       "    <tr>\n",
       "      <th>67</th>\n",
       "      <td>1</td>\n",
       "      <td>{'symbol', 'address'}</td>\n",
       "      <td>5014</td>\n",
       "    </tr>\n",
       "    <tr>\n",
       "      <th>1</th>\n",
       "      <td>1</td>\n",
       "      <td>set()</td>\n",
       "      <td>3063</td>\n",
       "    </tr>\n",
       "    <tr>\n",
       "      <th>272</th>\n",
       "      <td>2</td>\n",
       "      <td>{'symbol', 'decimals', 'address'}</td>\n",
       "      <td>2798</td>\n",
       "    </tr>\n",
       "    <tr>\n",
       "      <th>177</th>\n",
       "      <td>1</td>\n",
       "      <td>{'symbol'}</td>\n",
       "      <td>2601</td>\n",
       "    </tr>\n",
       "    <tr>\n",
       "      <th>6</th>\n",
       "      <td>1</td>\n",
       "      <td>{'address', 'chefAddresses'}</td>\n",
       "      <td>2265</td>\n",
       "    </tr>\n",
       "    <tr>\n",
       "      <th>720</th>\n",
       "      <td>6</td>\n",
       "      <td>{'multiplier', 'strategies', 'graphs', 'symbol...</td>\n",
       "      <td>1749</td>\n",
       "    </tr>\n",
       "    <tr>\n",
       "      <th>44</th>\n",
       "      <td>1</td>\n",
       "      <td>{'symbol', 'address', 'decimals', 'methodABI'}</td>\n",
       "      <td>1586</td>\n",
       "    </tr>\n",
       "    <tr>\n",
       "      <th>68</th>\n",
       "      <td>1</td>\n",
       "      <td>{'symbol', 'addresses'}</td>\n",
       "      <td>1151</td>\n",
       "    </tr>\n",
       "    <tr>\n",
       "      <th>290</th>\n",
       "      <td>2</td>\n",
       "      <td>{'symbol', 'decimals', 'strategies', 'address'}</td>\n",
       "      <td>966</td>\n",
       "    </tr>\n",
       "    <tr>\n",
       "      <th>46</th>\n",
       "      <td>1</td>\n",
       "      <td>{'symbol', 'address', 'decimals', 'network'}</td>\n",
       "      <td>935</td>\n",
       "    </tr>\n",
       "    <tr>\n",
       "      <th>45</th>\n",
       "      <td>1</td>\n",
       "      <td>{'symbol', 'address', 'decimals', 'minBalance'}</td>\n",
       "      <td>911</td>\n",
       "    </tr>\n",
       "    <tr>\n",
       "      <th>238</th>\n",
       "      <td>2</td>\n",
       "      <td>{'symbol', 'address', 'decimals'}</td>\n",
       "      <td>778</td>\n",
       "    </tr>\n",
       "    <tr>\n",
       "      <th>468</th>\n",
       "      <td>3</td>\n",
       "      <td>{'symbol', 'decimals', 'address'}</td>\n",
       "      <td>778</td>\n",
       "    </tr>\n",
       "    <tr>\n",
       "      <th>64</th>\n",
       "      <td>1</td>\n",
       "      <td>{'symbol', 'address', 'tokenId', 'decimals'}</td>\n",
       "      <td>616</td>\n",
       "    </tr>\n",
       "    <tr>\n",
       "      <th>285</th>\n",
       "      <td>2</td>\n",
       "      <td>{'symbol', 'decimals', 'strategies', 'address'...</td>\n",
       "      <td>445</td>\n",
       "    </tr>\n",
       "    <tr>\n",
       "      <th>86</th>\n",
       "      <td>1</td>\n",
       "      <td>{'symbol', 'decimals', 'api', 'strategy'}</td>\n",
       "      <td>435</td>\n",
       "    </tr>\n",
       "    <tr>\n",
       "      <th>114</th>\n",
       "      <td>1</td>\n",
       "      <td>{'symbol', 'graphs', 'strategies'}</td>\n",
       "      <td>404</td>\n",
       "    </tr>\n",
       "    <tr>\n",
       "      <th>758</th>\n",
       "      <td>7</td>\n",
       "      <td>{'symbol', 'decimals', 'address'}</td>\n",
       "      <td>389</td>\n",
       "    </tr>\n",
       "    <tr>\n",
       "      <th>288</th>\n",
       "      <td>2</td>\n",
       "      <td>{'symbol', 'decimals', 'strategies', 'address'...</td>\n",
       "      <td>373</td>\n",
       "    </tr>\n",
       "  </tbody>\n",
       "</table>\n",
       "</div>"
      ],
      "text/plain": [
       "     strategy_count                                  strategy_tags_str     id\n",
       "51                1                  {'symbol', 'address', 'decimals'}  28820\n",
       "67                1                              {'symbol', 'address'}   5014\n",
       "1                 1                                              set()   3063\n",
       "272               2                  {'symbol', 'decimals', 'address'}   2798\n",
       "177               1                                         {'symbol'}   2601\n",
       "6                 1                       {'address', 'chefAddresses'}   2265\n",
       "720               6  {'multiplier', 'strategies', 'graphs', 'symbol...   1749\n",
       "44                1     {'symbol', 'address', 'decimals', 'methodABI'}   1586\n",
       "68                1                            {'symbol', 'addresses'}   1151\n",
       "290               2    {'symbol', 'decimals', 'strategies', 'address'}    966\n",
       "46                1       {'symbol', 'address', 'decimals', 'network'}    935\n",
       "45                1    {'symbol', 'address', 'decimals', 'minBalance'}    911\n",
       "238               2                  {'symbol', 'address', 'decimals'}    778\n",
       "468               3                  {'symbol', 'decimals', 'address'}    778\n",
       "64                1       {'symbol', 'address', 'tokenId', 'decimals'}    616\n",
       "285               2  {'symbol', 'decimals', 'strategies', 'address'...    445\n",
       "86                1          {'symbol', 'decimals', 'api', 'strategy'}    435\n",
       "114               1                 {'symbol', 'graphs', 'strategies'}    404\n",
       "758               7                  {'symbol', 'decimals', 'address'}    389\n",
       "288               2  {'symbol', 'decimals', 'strategies', 'address'...    373"
      ]
     },
     "execution_count": 35,
     "metadata": {},
     "output_type": "execute_result"
    }
   ],
   "source": [
    "df[['strategy_count','strategy_tags_str','id']].groupby(['strategy_count','strategy_tags_str']).count().reset_index().sort_values(by='id',ascending=False).head(20)"
   ]
  },
  {
   "cell_type": "code",
   "execution_count": null,
   "metadata": {},
   "outputs": [],
   "source": []
  }
 ],
 "metadata": {
  "kernelspec": {
   "display_name": "Python 3.10.4 ('IS808')",
   "language": "python",
   "name": "python3"
  },
  "language_info": {
   "codemirror_mode": {
    "name": "ipython",
    "version": 3
   },
   "file_extension": ".py",
   "mimetype": "text/x-python",
   "name": "python",
   "nbconvert_exporter": "python",
   "pygments_lexer": "ipython3",
   "version": "3.10.4"
  },
  "orig_nbformat": 4,
  "vscode": {
   "interpreter": {
    "hash": "8cc4887c50b7ebbdbba5641e0f4082b79a2b586903323a46961ab14ae90948e5"
   }
  }
 },
 "nbformat": 4,
 "nbformat_minor": 2
}
